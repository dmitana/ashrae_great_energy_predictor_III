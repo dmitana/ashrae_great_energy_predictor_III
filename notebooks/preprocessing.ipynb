{
 "cells": [
  {
   "cell_type": "code",
   "execution_count": 1,
   "metadata": {},
   "outputs": [],
   "source": [
    "\"\"\"\n",
    "You need to run this cell for the code in following cells to work.\n",
    "\"\"\"\n",
    "\n",
    "# Enable module reloading\n",
    "%load_ext autoreload\n",
    "%autoreload 2\n",
    "\n",
    "import os\n",
    "os.chdir(\"..\")\n",
    "\n",
    "import pandas as pd\n",
    "from src.data.analysis import get_outliers\n",
    "from src.data.pipelines import primary_use_pipeline, square_feet_pipeline, air_temperature_pipeline, \\\n",
    "    air_temperature_without_outliers_pipeline, dew_temperature_pipeline, \\\n",
    "    dew_temperature_without_outliers_pipeline, sea_level_pressure_pipeline, wind_speed_pipeline, \\\n",
    "    wind_speed_without_outliers_pipeline, wind_direction_pipeline, meter_pipeline\n",
    "from src.data.feature_unions import buildings_fu, weather_fu, weather_without_outliers_fu"
   ]
  },
  {
   "cell_type": "code",
   "execution_count": 2,
   "metadata": {},
   "outputs": [],
   "source": [
    "def check_mean_and_variance(df_column):\n",
    "    mean = round(df_column.mean(), 2)\n",
    "    var = round(df_column.var(), 2)\n",
    "    print(f'mean = {mean}, variance = {var}')"
   ]
  },
  {
   "cell_type": "markdown",
   "metadata": {},
   "source": [
    "# Data preprocessing"
   ]
  },
  {
   "cell_type": "code",
   "execution_count": 3,
   "metadata": {},
   "outputs": [
    {
     "data": {
      "text/html": [
       "<div>\n",
       "<style scoped>\n",
       "    .dataframe tbody tr th:only-of-type {\n",
       "        vertical-align: middle;\n",
       "    }\n",
       "\n",
       "    .dataframe tbody tr th {\n",
       "        vertical-align: top;\n",
       "    }\n",
       "\n",
       "    .dataframe thead th {\n",
       "        text-align: right;\n",
       "    }\n",
       "</style>\n",
       "<table border=\"1\" class=\"dataframe\">\n",
       "  <thead>\n",
       "    <tr style=\"text-align: right;\">\n",
       "      <th></th>\n",
       "      <th>site_id</th>\n",
       "      <th>building_id</th>\n",
       "      <th>primary_use</th>\n",
       "      <th>square_feet</th>\n",
       "      <th>year_built</th>\n",
       "      <th>floor_count</th>\n",
       "    </tr>\n",
       "  </thead>\n",
       "  <tbody>\n",
       "    <tr>\n",
       "      <th>0</th>\n",
       "      <td>0</td>\n",
       "      <td>0</td>\n",
       "      <td>Education</td>\n",
       "      <td>7432</td>\n",
       "      <td>2008.0</td>\n",
       "      <td>NaN</td>\n",
       "    </tr>\n",
       "    <tr>\n",
       "      <th>1</th>\n",
       "      <td>0</td>\n",
       "      <td>1</td>\n",
       "      <td>Education</td>\n",
       "      <td>2720</td>\n",
       "      <td>2004.0</td>\n",
       "      <td>NaN</td>\n",
       "    </tr>\n",
       "    <tr>\n",
       "      <th>2</th>\n",
       "      <td>0</td>\n",
       "      <td>2</td>\n",
       "      <td>Education</td>\n",
       "      <td>5376</td>\n",
       "      <td>1991.0</td>\n",
       "      <td>NaN</td>\n",
       "    </tr>\n",
       "    <tr>\n",
       "      <th>3</th>\n",
       "      <td>0</td>\n",
       "      <td>3</td>\n",
       "      <td>Education</td>\n",
       "      <td>23685</td>\n",
       "      <td>2002.0</td>\n",
       "      <td>NaN</td>\n",
       "    </tr>\n",
       "    <tr>\n",
       "      <th>4</th>\n",
       "      <td>0</td>\n",
       "      <td>4</td>\n",
       "      <td>Education</td>\n",
       "      <td>116607</td>\n",
       "      <td>1975.0</td>\n",
       "      <td>NaN</td>\n",
       "    </tr>\n",
       "    <tr>\n",
       "      <th>...</th>\n",
       "      <td>...</td>\n",
       "      <td>...</td>\n",
       "      <td>...</td>\n",
       "      <td>...</td>\n",
       "      <td>...</td>\n",
       "      <td>...</td>\n",
       "    </tr>\n",
       "    <tr>\n",
       "      <th>1444</th>\n",
       "      <td>15</td>\n",
       "      <td>1444</td>\n",
       "      <td>Entertainment/public assembly</td>\n",
       "      <td>19619</td>\n",
       "      <td>1914.0</td>\n",
       "      <td>NaN</td>\n",
       "    </tr>\n",
       "    <tr>\n",
       "      <th>1445</th>\n",
       "      <td>15</td>\n",
       "      <td>1445</td>\n",
       "      <td>Education</td>\n",
       "      <td>4298</td>\n",
       "      <td>NaN</td>\n",
       "      <td>NaN</td>\n",
       "    </tr>\n",
       "    <tr>\n",
       "      <th>1446</th>\n",
       "      <td>15</td>\n",
       "      <td>1446</td>\n",
       "      <td>Entertainment/public assembly</td>\n",
       "      <td>11265</td>\n",
       "      <td>1997.0</td>\n",
       "      <td>NaN</td>\n",
       "    </tr>\n",
       "    <tr>\n",
       "      <th>1447</th>\n",
       "      <td>15</td>\n",
       "      <td>1447</td>\n",
       "      <td>Lodging/residential</td>\n",
       "      <td>29775</td>\n",
       "      <td>2001.0</td>\n",
       "      <td>NaN</td>\n",
       "    </tr>\n",
       "    <tr>\n",
       "      <th>1448</th>\n",
       "      <td>15</td>\n",
       "      <td>1448</td>\n",
       "      <td>Office</td>\n",
       "      <td>92271</td>\n",
       "      <td>2001.0</td>\n",
       "      <td>NaN</td>\n",
       "    </tr>\n",
       "  </tbody>\n",
       "</table>\n",
       "<p>1449 rows × 6 columns</p>\n",
       "</div>"
      ],
      "text/plain": [
       "      site_id  building_id                    primary_use  square_feet  \\\n",
       "0           0            0                      Education         7432   \n",
       "1           0            1                      Education         2720   \n",
       "2           0            2                      Education         5376   \n",
       "3           0            3                      Education        23685   \n",
       "4           0            4                      Education       116607   \n",
       "...       ...          ...                            ...          ...   \n",
       "1444       15         1444  Entertainment/public assembly        19619   \n",
       "1445       15         1445                      Education         4298   \n",
       "1446       15         1446  Entertainment/public assembly        11265   \n",
       "1447       15         1447            Lodging/residential        29775   \n",
       "1448       15         1448                         Office        92271   \n",
       "\n",
       "      year_built  floor_count  \n",
       "0         2008.0          NaN  \n",
       "1         2004.0          NaN  \n",
       "2         1991.0          NaN  \n",
       "3         2002.0          NaN  \n",
       "4         1975.0          NaN  \n",
       "...          ...          ...  \n",
       "1444      1914.0          NaN  \n",
       "1445         NaN          NaN  \n",
       "1446      1997.0          NaN  \n",
       "1447      2001.0          NaN  \n",
       "1448      2001.0          NaN  \n",
       "\n",
       "[1449 rows x 6 columns]"
      ]
     },
     "execution_count": 3,
     "metadata": {},
     "output_type": "execute_result"
    }
   ],
   "source": [
    "building_metadata = pd.read_csv('data/building_metadata.csv')\n",
    "building_metadata"
   ]
  },
  {
   "cell_type": "code",
   "execution_count": 4,
   "metadata": {},
   "outputs": [],
   "source": [
    "bm_copy = building_metadata.copy()"
   ]
  },
  {
   "cell_type": "markdown",
   "metadata": {},
   "source": [
    "## Buildings data"
   ]
  },
  {
   "cell_type": "markdown",
   "metadata": {},
   "source": [
    "### Primary use"
   ]
  },
  {
   "cell_type": "markdown",
   "metadata": {},
   "source": [
    "In this preprocessing we merge less numerous categories of primary use to category `Other` and encode values using One Hot Encoding."
   ]
  },
  {
   "cell_type": "code",
   "execution_count": 5,
   "metadata": {},
   "outputs": [
    {
     "data": {
      "text/html": [
       "<div>\n",
       "<style scoped>\n",
       "    .dataframe tbody tr th:only-of-type {\n",
       "        vertical-align: middle;\n",
       "    }\n",
       "\n",
       "    .dataframe tbody tr th {\n",
       "        vertical-align: top;\n",
       "    }\n",
       "\n",
       "    .dataframe thead th {\n",
       "        text-align: right;\n",
       "    }\n",
       "</style>\n",
       "<table border=\"1\" class=\"dataframe\">\n",
       "  <thead>\n",
       "    <tr style=\"text-align: right;\">\n",
       "      <th></th>\n",
       "      <th>Education</th>\n",
       "      <th>Entertainment/public assembly</th>\n",
       "      <th>Lodging/residential</th>\n",
       "      <th>Office</th>\n",
       "      <th>Other</th>\n",
       "      <th>Public services</th>\n",
       "    </tr>\n",
       "  </thead>\n",
       "  <tbody>\n",
       "    <tr>\n",
       "      <th>0</th>\n",
       "      <td>1.0</td>\n",
       "      <td>0.0</td>\n",
       "      <td>0.0</td>\n",
       "      <td>0.0</td>\n",
       "      <td>0.0</td>\n",
       "      <td>0.0</td>\n",
       "    </tr>\n",
       "    <tr>\n",
       "      <th>1</th>\n",
       "      <td>1.0</td>\n",
       "      <td>0.0</td>\n",
       "      <td>0.0</td>\n",
       "      <td>0.0</td>\n",
       "      <td>0.0</td>\n",
       "      <td>0.0</td>\n",
       "    </tr>\n",
       "    <tr>\n",
       "      <th>2</th>\n",
       "      <td>1.0</td>\n",
       "      <td>0.0</td>\n",
       "      <td>0.0</td>\n",
       "      <td>0.0</td>\n",
       "      <td>0.0</td>\n",
       "      <td>0.0</td>\n",
       "    </tr>\n",
       "    <tr>\n",
       "      <th>3</th>\n",
       "      <td>1.0</td>\n",
       "      <td>0.0</td>\n",
       "      <td>0.0</td>\n",
       "      <td>0.0</td>\n",
       "      <td>0.0</td>\n",
       "      <td>0.0</td>\n",
       "    </tr>\n",
       "    <tr>\n",
       "      <th>4</th>\n",
       "      <td>1.0</td>\n",
       "      <td>0.0</td>\n",
       "      <td>0.0</td>\n",
       "      <td>0.0</td>\n",
       "      <td>0.0</td>\n",
       "      <td>0.0</td>\n",
       "    </tr>\n",
       "    <tr>\n",
       "      <th>...</th>\n",
       "      <td>...</td>\n",
       "      <td>...</td>\n",
       "      <td>...</td>\n",
       "      <td>...</td>\n",
       "      <td>...</td>\n",
       "      <td>...</td>\n",
       "    </tr>\n",
       "    <tr>\n",
       "      <th>1444</th>\n",
       "      <td>0.0</td>\n",
       "      <td>1.0</td>\n",
       "      <td>0.0</td>\n",
       "      <td>0.0</td>\n",
       "      <td>0.0</td>\n",
       "      <td>0.0</td>\n",
       "    </tr>\n",
       "    <tr>\n",
       "      <th>1445</th>\n",
       "      <td>1.0</td>\n",
       "      <td>0.0</td>\n",
       "      <td>0.0</td>\n",
       "      <td>0.0</td>\n",
       "      <td>0.0</td>\n",
       "      <td>0.0</td>\n",
       "    </tr>\n",
       "    <tr>\n",
       "      <th>1446</th>\n",
       "      <td>0.0</td>\n",
       "      <td>1.0</td>\n",
       "      <td>0.0</td>\n",
       "      <td>0.0</td>\n",
       "      <td>0.0</td>\n",
       "      <td>0.0</td>\n",
       "    </tr>\n",
       "    <tr>\n",
       "      <th>1447</th>\n",
       "      <td>0.0</td>\n",
       "      <td>0.0</td>\n",
       "      <td>1.0</td>\n",
       "      <td>0.0</td>\n",
       "      <td>0.0</td>\n",
       "      <td>0.0</td>\n",
       "    </tr>\n",
       "    <tr>\n",
       "      <th>1448</th>\n",
       "      <td>0.0</td>\n",
       "      <td>0.0</td>\n",
       "      <td>0.0</td>\n",
       "      <td>1.0</td>\n",
       "      <td>0.0</td>\n",
       "      <td>0.0</td>\n",
       "    </tr>\n",
       "  </tbody>\n",
       "</table>\n",
       "<p>1449 rows × 6 columns</p>\n",
       "</div>"
      ],
      "text/plain": [
       "      Education  Entertainment/public assembly  Lodging/residential  Office  \\\n",
       "0           1.0                            0.0                  0.0     0.0   \n",
       "1           1.0                            0.0                  0.0     0.0   \n",
       "2           1.0                            0.0                  0.0     0.0   \n",
       "3           1.0                            0.0                  0.0     0.0   \n",
       "4           1.0                            0.0                  0.0     0.0   \n",
       "...         ...                            ...                  ...     ...   \n",
       "1444        0.0                            1.0                  0.0     0.0   \n",
       "1445        1.0                            0.0                  0.0     0.0   \n",
       "1446        0.0                            1.0                  0.0     0.0   \n",
       "1447        0.0                            0.0                  1.0     0.0   \n",
       "1448        0.0                            0.0                  0.0     1.0   \n",
       "\n",
       "      Other  Public services  \n",
       "0       0.0              0.0  \n",
       "1       0.0              0.0  \n",
       "2       0.0              0.0  \n",
       "3       0.0              0.0  \n",
       "4       0.0              0.0  \n",
       "...     ...              ...  \n",
       "1444    0.0              0.0  \n",
       "1445    0.0              0.0  \n",
       "1446    0.0              0.0  \n",
       "1447    0.0              0.0  \n",
       "1448    0.0              0.0  \n",
       "\n",
       "[1449 rows x 6 columns]"
      ]
     },
     "execution_count": 5,
     "metadata": {},
     "output_type": "execute_result"
    }
   ],
   "source": [
    "primary_use_feature = pd.DataFrame(primary_use_pipeline.fit_transform(bm_copy))\n",
    "primary_use_feature"
   ]
  },
  {
   "cell_type": "markdown",
   "metadata": {},
   "source": [
    "We can see that there is only 6 categories (`Education`, `Entertainment/public assembly`, `Lodging/residential`, `Office`, `Other` and `Public services`) instead of 16 original and values are properly encoded."
   ]
  },
  {
   "cell_type": "markdown",
   "metadata": {},
   "source": [
    "### Square feet"
   ]
  },
  {
   "cell_type": "markdown",
   "metadata": {},
   "source": [
    "In this preprocessing we scale values to zero mean unit variance."
   ]
  },
  {
   "cell_type": "code",
   "execution_count": 6,
   "metadata": {},
   "outputs": [
    {
     "data": {
      "text/html": [
       "<div>\n",
       "<style scoped>\n",
       "    .dataframe tbody tr th:only-of-type {\n",
       "        vertical-align: middle;\n",
       "    }\n",
       "\n",
       "    .dataframe tbody tr th {\n",
       "        vertical-align: top;\n",
       "    }\n",
       "\n",
       "    .dataframe thead th {\n",
       "        text-align: right;\n",
       "    }\n",
       "</style>\n",
       "<table border=\"1\" class=\"dataframe\">\n",
       "  <thead>\n",
       "    <tr style=\"text-align: right;\">\n",
       "      <th></th>\n",
       "      <th>square_feet</th>\n",
       "    </tr>\n",
       "  </thead>\n",
       "  <tbody>\n",
       "    <tr>\n",
       "      <th>0</th>\n",
       "      <td>-0.764729</td>\n",
       "    </tr>\n",
       "    <tr>\n",
       "      <th>1</th>\n",
       "      <td>-0.807282</td>\n",
       "    </tr>\n",
       "    <tr>\n",
       "      <th>2</th>\n",
       "      <td>-0.783297</td>\n",
       "    </tr>\n",
       "    <tr>\n",
       "      <th>3</th>\n",
       "      <td>-0.617951</td>\n",
       "    </tr>\n",
       "    <tr>\n",
       "      <th>4</th>\n",
       "      <td>0.221212</td>\n",
       "    </tr>\n",
       "  </tbody>\n",
       "</table>\n",
       "</div>"
      ],
      "text/plain": [
       "   square_feet\n",
       "0    -0.764729\n",
       "1    -0.807282\n",
       "2    -0.783297\n",
       "3    -0.617951\n",
       "4     0.221212"
      ]
     },
     "execution_count": 6,
     "metadata": {},
     "output_type": "execute_result"
    }
   ],
   "source": [
    "square_feet_feature = pd.DataFrame(square_feet_pipeline.fit_transform(bm_copy))\n",
    "square_feet_feature.head()"
   ]
  },
  {
   "cell_type": "code",
   "execution_count": 7,
   "metadata": {},
   "outputs": [
    {
     "name": "stdout",
     "output_type": "stream",
     "text": [
      "mean = 0.0, variance = 1.0\n"
     ]
    }
   ],
   "source": [
    "check_mean_and_variance(square_feet_feature.square_feet)"
   ]
  },
  {
   "cell_type": "markdown",
   "metadata": {},
   "source": [
    "We can see that are properly scaled."
   ]
  },
  {
   "cell_type": "markdown",
   "metadata": {},
   "source": [
    "### Union of features"
   ]
  },
  {
   "cell_type": "markdown",
   "metadata": {},
   "source": [
    "The resulting buildings data looks following."
   ]
  },
  {
   "cell_type": "code",
   "execution_count": 8,
   "metadata": {},
   "outputs": [
    {
     "data": {
      "text/html": [
       "<div>\n",
       "<style scoped>\n",
       "    .dataframe tbody tr th:only-of-type {\n",
       "        vertical-align: middle;\n",
       "    }\n",
       "\n",
       "    .dataframe tbody tr th {\n",
       "        vertical-align: top;\n",
       "    }\n",
       "\n",
       "    .dataframe thead th {\n",
       "        text-align: right;\n",
       "    }\n",
       "</style>\n",
       "<table border=\"1\" class=\"dataframe\">\n",
       "  <thead>\n",
       "    <tr style=\"text-align: right;\">\n",
       "      <th></th>\n",
       "      <th>site_id</th>\n",
       "      <th>building_id</th>\n",
       "      <th>Education</th>\n",
       "      <th>Entertainment/public assembly</th>\n",
       "      <th>Lodging/residential</th>\n",
       "      <th>Office</th>\n",
       "      <th>Other</th>\n",
       "      <th>Public services</th>\n",
       "      <th>square_feet</th>\n",
       "    </tr>\n",
       "  </thead>\n",
       "  <tbody>\n",
       "    <tr>\n",
       "      <th>0</th>\n",
       "      <td>0.0</td>\n",
       "      <td>0.0</td>\n",
       "      <td>1.0</td>\n",
       "      <td>0.0</td>\n",
       "      <td>0.0</td>\n",
       "      <td>0.0</td>\n",
       "      <td>0.0</td>\n",
       "      <td>0.0</td>\n",
       "      <td>-0.764729</td>\n",
       "    </tr>\n",
       "    <tr>\n",
       "      <th>1</th>\n",
       "      <td>0.0</td>\n",
       "      <td>1.0</td>\n",
       "      <td>1.0</td>\n",
       "      <td>0.0</td>\n",
       "      <td>0.0</td>\n",
       "      <td>0.0</td>\n",
       "      <td>0.0</td>\n",
       "      <td>0.0</td>\n",
       "      <td>-0.807282</td>\n",
       "    </tr>\n",
       "    <tr>\n",
       "      <th>2</th>\n",
       "      <td>0.0</td>\n",
       "      <td>2.0</td>\n",
       "      <td>1.0</td>\n",
       "      <td>0.0</td>\n",
       "      <td>0.0</td>\n",
       "      <td>0.0</td>\n",
       "      <td>0.0</td>\n",
       "      <td>0.0</td>\n",
       "      <td>-0.783297</td>\n",
       "    </tr>\n",
       "    <tr>\n",
       "      <th>3</th>\n",
       "      <td>0.0</td>\n",
       "      <td>3.0</td>\n",
       "      <td>1.0</td>\n",
       "      <td>0.0</td>\n",
       "      <td>0.0</td>\n",
       "      <td>0.0</td>\n",
       "      <td>0.0</td>\n",
       "      <td>0.0</td>\n",
       "      <td>-0.617951</td>\n",
       "    </tr>\n",
       "    <tr>\n",
       "      <th>4</th>\n",
       "      <td>0.0</td>\n",
       "      <td>4.0</td>\n",
       "      <td>1.0</td>\n",
       "      <td>0.0</td>\n",
       "      <td>0.0</td>\n",
       "      <td>0.0</td>\n",
       "      <td>0.0</td>\n",
       "      <td>0.0</td>\n",
       "      <td>0.221212</td>\n",
       "    </tr>\n",
       "    <tr>\n",
       "      <th>...</th>\n",
       "      <td>...</td>\n",
       "      <td>...</td>\n",
       "      <td>...</td>\n",
       "      <td>...</td>\n",
       "      <td>...</td>\n",
       "      <td>...</td>\n",
       "      <td>...</td>\n",
       "      <td>...</td>\n",
       "      <td>...</td>\n",
       "    </tr>\n",
       "    <tr>\n",
       "      <th>1444</th>\n",
       "      <td>15.0</td>\n",
       "      <td>1444.0</td>\n",
       "      <td>0.0</td>\n",
       "      <td>1.0</td>\n",
       "      <td>0.0</td>\n",
       "      <td>0.0</td>\n",
       "      <td>0.0</td>\n",
       "      <td>0.0</td>\n",
       "      <td>-0.654670</td>\n",
       "    </tr>\n",
       "    <tr>\n",
       "      <th>1445</th>\n",
       "      <td>15.0</td>\n",
       "      <td>1445.0</td>\n",
       "      <td>1.0</td>\n",
       "      <td>0.0</td>\n",
       "      <td>0.0</td>\n",
       "      <td>0.0</td>\n",
       "      <td>0.0</td>\n",
       "      <td>0.0</td>\n",
       "      <td>-0.793032</td>\n",
       "    </tr>\n",
       "    <tr>\n",
       "      <th>1446</th>\n",
       "      <td>15.0</td>\n",
       "      <td>1446.0</td>\n",
       "      <td>0.0</td>\n",
       "      <td>1.0</td>\n",
       "      <td>0.0</td>\n",
       "      <td>0.0</td>\n",
       "      <td>0.0</td>\n",
       "      <td>0.0</td>\n",
       "      <td>-0.730114</td>\n",
       "    </tr>\n",
       "    <tr>\n",
       "      <th>1447</th>\n",
       "      <td>15.0</td>\n",
       "      <td>1447.0</td>\n",
       "      <td>0.0</td>\n",
       "      <td>0.0</td>\n",
       "      <td>1.0</td>\n",
       "      <td>0.0</td>\n",
       "      <td>0.0</td>\n",
       "      <td>0.0</td>\n",
       "      <td>-0.562953</td>\n",
       "    </tr>\n",
       "    <tr>\n",
       "      <th>1448</th>\n",
       "      <td>15.0</td>\n",
       "      <td>1448.0</td>\n",
       "      <td>0.0</td>\n",
       "      <td>0.0</td>\n",
       "      <td>0.0</td>\n",
       "      <td>1.0</td>\n",
       "      <td>0.0</td>\n",
       "      <td>0.0</td>\n",
       "      <td>0.001438</td>\n",
       "    </tr>\n",
       "  </tbody>\n",
       "</table>\n",
       "<p>1449 rows × 9 columns</p>\n",
       "</div>"
      ],
      "text/plain": [
       "      site_id  building_id  Education  Entertainment/public assembly  \\\n",
       "0         0.0          0.0        1.0                            0.0   \n",
       "1         0.0          1.0        1.0                            0.0   \n",
       "2         0.0          2.0        1.0                            0.0   \n",
       "3         0.0          3.0        1.0                            0.0   \n",
       "4         0.0          4.0        1.0                            0.0   \n",
       "...       ...          ...        ...                            ...   \n",
       "1444     15.0       1444.0        0.0                            1.0   \n",
       "1445     15.0       1445.0        1.0                            0.0   \n",
       "1446     15.0       1446.0        0.0                            1.0   \n",
       "1447     15.0       1447.0        0.0                            0.0   \n",
       "1448     15.0       1448.0        0.0                            0.0   \n",
       "\n",
       "      Lodging/residential  Office  Other  Public services  square_feet  \n",
       "0                     0.0     0.0    0.0              0.0    -0.764729  \n",
       "1                     0.0     0.0    0.0              0.0    -0.807282  \n",
       "2                     0.0     0.0    0.0              0.0    -0.783297  \n",
       "3                     0.0     0.0    0.0              0.0    -0.617951  \n",
       "4                     0.0     0.0    0.0              0.0     0.221212  \n",
       "...                   ...     ...    ...              ...          ...  \n",
       "1444                  0.0     0.0    0.0              0.0    -0.654670  \n",
       "1445                  0.0     0.0    0.0              0.0    -0.793032  \n",
       "1446                  0.0     0.0    0.0              0.0    -0.730114  \n",
       "1447                  1.0     0.0    0.0              0.0    -0.562953  \n",
       "1448                  0.0     1.0    0.0              0.0     0.001438  \n",
       "\n",
       "[1449 rows x 9 columns]"
      ]
     },
     "execution_count": 8,
     "metadata": {},
     "output_type": "execute_result"
    }
   ],
   "source": [
    "buildings_features = buildings_fu.union_features(building_metadata)\n",
    "buildings_features"
   ]
  },
  {
   "cell_type": "markdown",
   "metadata": {},
   "source": [
    "## Weather data"
   ]
  },
  {
   "cell_type": "code",
   "execution_count": 9,
   "metadata": {},
   "outputs": [
    {
     "data": {
      "text/html": [
       "<div>\n",
       "<style scoped>\n",
       "    .dataframe tbody tr th:only-of-type {\n",
       "        vertical-align: middle;\n",
       "    }\n",
       "\n",
       "    .dataframe tbody tr th {\n",
       "        vertical-align: top;\n",
       "    }\n",
       "\n",
       "    .dataframe thead th {\n",
       "        text-align: right;\n",
       "    }\n",
       "</style>\n",
       "<table border=\"1\" class=\"dataframe\">\n",
       "  <thead>\n",
       "    <tr style=\"text-align: right;\">\n",
       "      <th></th>\n",
       "      <th>site_id</th>\n",
       "      <th>timestamp</th>\n",
       "      <th>air_temperature</th>\n",
       "      <th>cloud_coverage</th>\n",
       "      <th>dew_temperature</th>\n",
       "      <th>precip_depth_1_hr</th>\n",
       "      <th>sea_level_pressure</th>\n",
       "      <th>wind_direction</th>\n",
       "      <th>wind_speed</th>\n",
       "    </tr>\n",
       "  </thead>\n",
       "  <tbody>\n",
       "    <tr>\n",
       "      <th>0</th>\n",
       "      <td>0</td>\n",
       "      <td>2016-01-01 00:00:00</td>\n",
       "      <td>25.0</td>\n",
       "      <td>6.0</td>\n",
       "      <td>20.0</td>\n",
       "      <td>NaN</td>\n",
       "      <td>1019.7</td>\n",
       "      <td>0.0</td>\n",
       "      <td>0.0</td>\n",
       "    </tr>\n",
       "    <tr>\n",
       "      <th>1</th>\n",
       "      <td>0</td>\n",
       "      <td>2016-01-01 01:00:00</td>\n",
       "      <td>24.4</td>\n",
       "      <td>NaN</td>\n",
       "      <td>21.1</td>\n",
       "      <td>-1.0</td>\n",
       "      <td>1020.2</td>\n",
       "      <td>70.0</td>\n",
       "      <td>1.5</td>\n",
       "    </tr>\n",
       "    <tr>\n",
       "      <th>2</th>\n",
       "      <td>0</td>\n",
       "      <td>2016-01-01 02:00:00</td>\n",
       "      <td>22.8</td>\n",
       "      <td>2.0</td>\n",
       "      <td>21.1</td>\n",
       "      <td>0.0</td>\n",
       "      <td>1020.2</td>\n",
       "      <td>0.0</td>\n",
       "      <td>0.0</td>\n",
       "    </tr>\n",
       "    <tr>\n",
       "      <th>3</th>\n",
       "      <td>0</td>\n",
       "      <td>2016-01-01 03:00:00</td>\n",
       "      <td>21.1</td>\n",
       "      <td>2.0</td>\n",
       "      <td>20.6</td>\n",
       "      <td>0.0</td>\n",
       "      <td>1020.1</td>\n",
       "      <td>0.0</td>\n",
       "      <td>0.0</td>\n",
       "    </tr>\n",
       "    <tr>\n",
       "      <th>4</th>\n",
       "      <td>0</td>\n",
       "      <td>2016-01-01 04:00:00</td>\n",
       "      <td>20.0</td>\n",
       "      <td>2.0</td>\n",
       "      <td>20.0</td>\n",
       "      <td>-1.0</td>\n",
       "      <td>1020.0</td>\n",
       "      <td>250.0</td>\n",
       "      <td>2.6</td>\n",
       "    </tr>\n",
       "    <tr>\n",
       "      <th>...</th>\n",
       "      <td>...</td>\n",
       "      <td>...</td>\n",
       "      <td>...</td>\n",
       "      <td>...</td>\n",
       "      <td>...</td>\n",
       "      <td>...</td>\n",
       "      <td>...</td>\n",
       "      <td>...</td>\n",
       "      <td>...</td>\n",
       "    </tr>\n",
       "    <tr>\n",
       "      <th>139768</th>\n",
       "      <td>15</td>\n",
       "      <td>2016-12-31 19:00:00</td>\n",
       "      <td>3.0</td>\n",
       "      <td>NaN</td>\n",
       "      <td>-8.0</td>\n",
       "      <td>NaN</td>\n",
       "      <td>NaN</td>\n",
       "      <td>180.0</td>\n",
       "      <td>5.7</td>\n",
       "    </tr>\n",
       "    <tr>\n",
       "      <th>139769</th>\n",
       "      <td>15</td>\n",
       "      <td>2016-12-31 20:00:00</td>\n",
       "      <td>2.8</td>\n",
       "      <td>2.0</td>\n",
       "      <td>-8.9</td>\n",
       "      <td>NaN</td>\n",
       "      <td>1007.4</td>\n",
       "      <td>180.0</td>\n",
       "      <td>7.7</td>\n",
       "    </tr>\n",
       "    <tr>\n",
       "      <th>139770</th>\n",
       "      <td>15</td>\n",
       "      <td>2016-12-31 21:00:00</td>\n",
       "      <td>2.8</td>\n",
       "      <td>NaN</td>\n",
       "      <td>-7.2</td>\n",
       "      <td>NaN</td>\n",
       "      <td>1007.5</td>\n",
       "      <td>180.0</td>\n",
       "      <td>5.1</td>\n",
       "    </tr>\n",
       "    <tr>\n",
       "      <th>139771</th>\n",
       "      <td>15</td>\n",
       "      <td>2016-12-31 22:00:00</td>\n",
       "      <td>2.2</td>\n",
       "      <td>NaN</td>\n",
       "      <td>-6.7</td>\n",
       "      <td>NaN</td>\n",
       "      <td>1008.0</td>\n",
       "      <td>170.0</td>\n",
       "      <td>4.6</td>\n",
       "    </tr>\n",
       "    <tr>\n",
       "      <th>139772</th>\n",
       "      <td>15</td>\n",
       "      <td>2016-12-31 23:00:00</td>\n",
       "      <td>1.7</td>\n",
       "      <td>NaN</td>\n",
       "      <td>-5.6</td>\n",
       "      <td>-1.0</td>\n",
       "      <td>1008.5</td>\n",
       "      <td>180.0</td>\n",
       "      <td>8.8</td>\n",
       "    </tr>\n",
       "  </tbody>\n",
       "</table>\n",
       "<p>139773 rows × 9 columns</p>\n",
       "</div>"
      ],
      "text/plain": [
       "        site_id            timestamp  air_temperature  cloud_coverage  \\\n",
       "0             0  2016-01-01 00:00:00             25.0             6.0   \n",
       "1             0  2016-01-01 01:00:00             24.4             NaN   \n",
       "2             0  2016-01-01 02:00:00             22.8             2.0   \n",
       "3             0  2016-01-01 03:00:00             21.1             2.0   \n",
       "4             0  2016-01-01 04:00:00             20.0             2.0   \n",
       "...         ...                  ...              ...             ...   \n",
       "139768       15  2016-12-31 19:00:00              3.0             NaN   \n",
       "139769       15  2016-12-31 20:00:00              2.8             2.0   \n",
       "139770       15  2016-12-31 21:00:00              2.8             NaN   \n",
       "139771       15  2016-12-31 22:00:00              2.2             NaN   \n",
       "139772       15  2016-12-31 23:00:00              1.7             NaN   \n",
       "\n",
       "        dew_temperature  precip_depth_1_hr  sea_level_pressure  \\\n",
       "0                  20.0                NaN              1019.7   \n",
       "1                  21.1               -1.0              1020.2   \n",
       "2                  21.1                0.0              1020.2   \n",
       "3                  20.6                0.0              1020.1   \n",
       "4                  20.0               -1.0              1020.0   \n",
       "...                 ...                ...                 ...   \n",
       "139768             -8.0                NaN                 NaN   \n",
       "139769             -8.9                NaN              1007.4   \n",
       "139770             -7.2                NaN              1007.5   \n",
       "139771             -6.7                NaN              1008.0   \n",
       "139772             -5.6               -1.0              1008.5   \n",
       "\n",
       "        wind_direction  wind_speed  \n",
       "0                  0.0         0.0  \n",
       "1                 70.0         1.5  \n",
       "2                  0.0         0.0  \n",
       "3                  0.0         0.0  \n",
       "4                250.0         2.6  \n",
       "...                ...         ...  \n",
       "139768           180.0         5.7  \n",
       "139769           180.0         7.7  \n",
       "139770           180.0         5.1  \n",
       "139771           170.0         4.6  \n",
       "139772           180.0         8.8  \n",
       "\n",
       "[139773 rows x 9 columns]"
      ]
     },
     "execution_count": 9,
     "metadata": {},
     "output_type": "execute_result"
    }
   ],
   "source": [
    "train_weather = pd.read_csv('data/weather_train.csv')\n",
    "train_weather"
   ]
  },
  {
   "cell_type": "code",
   "execution_count": 10,
   "metadata": {},
   "outputs": [],
   "source": [
    "tw_copy = train_weather.copy()"
   ]
  },
  {
   "cell_type": "markdown",
   "metadata": {},
   "source": [
    "### Air temperature"
   ]
  },
  {
   "cell_type": "markdown",
   "metadata": {},
   "source": [
    "In this preprocessing we fill in missing values using rolling average and scale values to zero mean unit variance."
   ]
  },
  {
   "cell_type": "code",
   "execution_count": 11,
   "metadata": {},
   "outputs": [
    {
     "data": {
      "text/html": [
       "<div>\n",
       "<style scoped>\n",
       "    .dataframe tbody tr th:only-of-type {\n",
       "        vertical-align: middle;\n",
       "    }\n",
       "\n",
       "    .dataframe tbody tr th {\n",
       "        vertical-align: top;\n",
       "    }\n",
       "\n",
       "    .dataframe thead th {\n",
       "        text-align: right;\n",
       "    }\n",
       "</style>\n",
       "<table border=\"1\" class=\"dataframe\">\n",
       "  <thead>\n",
       "    <tr style=\"text-align: right;\">\n",
       "      <th></th>\n",
       "      <th>air_temperature</th>\n",
       "    </tr>\n",
       "  </thead>\n",
       "  <tbody>\n",
       "    <tr>\n",
       "      <th>0</th>\n",
       "      <td>0.995738</td>\n",
       "    </tr>\n",
       "    <tr>\n",
       "      <th>1</th>\n",
       "      <td>0.939274</td>\n",
       "    </tr>\n",
       "    <tr>\n",
       "      <th>2</th>\n",
       "      <td>0.788704</td>\n",
       "    </tr>\n",
       "    <tr>\n",
       "      <th>3</th>\n",
       "      <td>0.628723</td>\n",
       "    </tr>\n",
       "    <tr>\n",
       "      <th>4</th>\n",
       "      <td>0.525206</td>\n",
       "    </tr>\n",
       "  </tbody>\n",
       "</table>\n",
       "</div>"
      ],
      "text/plain": [
       "   air_temperature\n",
       "0         0.995738\n",
       "1         0.939274\n",
       "2         0.788704\n",
       "3         0.628723\n",
       "4         0.525206"
      ]
     },
     "execution_count": 11,
     "metadata": {},
     "output_type": "execute_result"
    }
   ],
   "source": [
    "air_temperature_feature = pd.DataFrame(air_temperature_pipeline.fit_transform(tw_copy))\n",
    "air_temperature_feature.head()"
   ]
  },
  {
   "cell_type": "code",
   "execution_count": 12,
   "metadata": {},
   "outputs": [
    {
     "data": {
      "text/plain": [
       "0"
      ]
     },
     "execution_count": 12,
     "metadata": {},
     "output_type": "execute_result"
    }
   ],
   "source": [
    "air_temperature_feature.air_temperature.isna().sum()"
   ]
  },
  {
   "cell_type": "code",
   "execution_count": 13,
   "metadata": {},
   "outputs": [
    {
     "name": "stdout",
     "output_type": "stream",
     "text": [
      "mean = 0.0, variance = 1.0\n"
     ]
    }
   ],
   "source": [
    "check_mean_and_variance(air_temperature_feature.air_temperature)"
   ]
  },
  {
   "cell_type": "markdown",
   "metadata": {},
   "source": [
    "We can see that there is zero missing values and values are properly scaled."
   ]
  },
  {
   "cell_type": "markdown",
   "metadata": {},
   "source": [
    "In this preprocessing we focus on replacing outliers with 5th percentile or 95th percentile."
   ]
  },
  {
   "cell_type": "code",
   "execution_count": 14,
   "metadata": {},
   "outputs": [
    {
     "data": {
      "text/html": [
       "<div>\n",
       "<style scoped>\n",
       "    .dataframe tbody tr th:only-of-type {\n",
       "        vertical-align: middle;\n",
       "    }\n",
       "\n",
       "    .dataframe tbody tr th {\n",
       "        vertical-align: top;\n",
       "    }\n",
       "\n",
       "    .dataframe thead th {\n",
       "        text-align: right;\n",
       "    }\n",
       "</style>\n",
       "<table border=\"1\" class=\"dataframe\">\n",
       "  <thead>\n",
       "    <tr style=\"text-align: right;\">\n",
       "      <th></th>\n",
       "      <th>air_temperature</th>\n",
       "    </tr>\n",
       "  </thead>\n",
       "  <tbody>\n",
       "    <tr>\n",
       "      <th>0</th>\n",
       "      <td>1.010217</td>\n",
       "    </tr>\n",
       "    <tr>\n",
       "      <th>1</th>\n",
       "      <td>0.952421</td>\n",
       "    </tr>\n",
       "    <tr>\n",
       "      <th>2</th>\n",
       "      <td>0.798300</td>\n",
       "    </tr>\n",
       "    <tr>\n",
       "      <th>3</th>\n",
       "      <td>0.634545</td>\n",
       "    </tr>\n",
       "    <tr>\n",
       "      <th>4</th>\n",
       "      <td>0.528587</td>\n",
       "    </tr>\n",
       "  </tbody>\n",
       "</table>\n",
       "</div>"
      ],
      "text/plain": [
       "   air_temperature\n",
       "0         1.010217\n",
       "1         0.952421\n",
       "2         0.798300\n",
       "3         0.634545\n",
       "4         0.528587"
      ]
     },
     "execution_count": 14,
     "metadata": {},
     "output_type": "execute_result"
    }
   ],
   "source": [
    "air_temperature_without_outliers_feature = \\\n",
    "    pd.DataFrame(air_temperature_without_outliers_pipeline.fit_transform(tw_copy))\n",
    "air_temperature_without_outliers_feature.head()"
   ]
  },
  {
   "cell_type": "code",
   "execution_count": 15,
   "metadata": {},
   "outputs": [
    {
     "name": "stdout",
     "output_type": "stream",
     "text": [
      "lower bound: -2.87172198528123\n",
      "upper bound: 2.9078396453263515\n"
     ]
    },
    {
     "data": {
      "text/html": [
       "<div>\n",
       "<style scoped>\n",
       "    .dataframe tbody tr th:only-of-type {\n",
       "        vertical-align: middle;\n",
       "    }\n",
       "\n",
       "    .dataframe tbody tr th {\n",
       "        vertical-align: top;\n",
       "    }\n",
       "\n",
       "    .dataframe thead th {\n",
       "        text-align: right;\n",
       "    }\n",
       "</style>\n",
       "<table border=\"1\" class=\"dataframe\">\n",
       "  <thead>\n",
       "    <tr style=\"text-align: right;\">\n",
       "      <th></th>\n",
       "      <th>air_temperature</th>\n",
       "    </tr>\n",
       "  </thead>\n",
       "  <tbody>\n",
       "    <tr>\n",
       "      <th>61806</th>\n",
       "      <td>-2.871722</td>\n",
       "    </tr>\n",
       "    <tr>\n",
       "      <th>62355</th>\n",
       "      <td>-2.871722</td>\n",
       "    </tr>\n",
       "    <tr>\n",
       "      <th>62852</th>\n",
       "      <td>-2.871722</td>\n",
       "    </tr>\n",
       "    <tr>\n",
       "      <th>96766</th>\n",
       "      <td>-2.871722</td>\n",
       "    </tr>\n",
       "    <tr>\n",
       "      <th>97315</th>\n",
       "      <td>-2.871722</td>\n",
       "    </tr>\n",
       "    <tr>\n",
       "      <th>97812</th>\n",
       "      <td>-2.871722</td>\n",
       "    </tr>\n",
       "  </tbody>\n",
       "</table>\n",
       "</div>"
      ],
      "text/plain": [
       "       air_temperature\n",
       "61806        -2.871722\n",
       "62355        -2.871722\n",
       "62852        -2.871722\n",
       "96766        -2.871722\n",
       "97315        -2.871722\n",
       "97812        -2.871722"
      ]
     },
     "execution_count": 15,
     "metadata": {},
     "output_type": "execute_result"
    }
   ],
   "source": [
    "get_outliers(air_temperature_without_outliers_feature, 'air_temperature')"
   ]
  },
  {
   "cell_type": "markdown",
   "metadata": {},
   "source": [
    "We can see that outliers were correctly replaced (returned values are only rounding error)."
   ]
  },
  {
   "cell_type": "markdown",
   "metadata": {},
   "source": [
    "### Dew temperature"
   ]
  },
  {
   "cell_type": "markdown",
   "metadata": {},
   "source": [
    "In this preprocessing we fill in missing values using rolling average and scale values to zero mean unit variance."
   ]
  },
  {
   "cell_type": "code",
   "execution_count": 16,
   "metadata": {},
   "outputs": [
    {
     "data": {
      "text/html": [
       "<div>\n",
       "<style scoped>\n",
       "    .dataframe tbody tr th:only-of-type {\n",
       "        vertical-align: middle;\n",
       "    }\n",
       "\n",
       "    .dataframe tbody tr th {\n",
       "        vertical-align: top;\n",
       "    }\n",
       "\n",
       "    .dataframe thead th {\n",
       "        text-align: right;\n",
       "    }\n",
       "</style>\n",
       "<table border=\"1\" class=\"dataframe\">\n",
       "  <thead>\n",
       "    <tr style=\"text-align: right;\">\n",
       "      <th></th>\n",
       "      <th>dew_temperature</th>\n",
       "    </tr>\n",
       "  </thead>\n",
       "  <tbody>\n",
       "    <tr>\n",
       "      <th>0</th>\n",
       "      <td>1.292475</td>\n",
       "    </tr>\n",
       "    <tr>\n",
       "      <th>1</th>\n",
       "      <td>1.404847</td>\n",
       "    </tr>\n",
       "    <tr>\n",
       "      <th>2</th>\n",
       "      <td>1.404847</td>\n",
       "    </tr>\n",
       "    <tr>\n",
       "      <th>3</th>\n",
       "      <td>1.353769</td>\n",
       "    </tr>\n",
       "    <tr>\n",
       "      <th>4</th>\n",
       "      <td>1.292475</td>\n",
       "    </tr>\n",
       "  </tbody>\n",
       "</table>\n",
       "</div>"
      ],
      "text/plain": [
       "   dew_temperature\n",
       "0         1.292475\n",
       "1         1.404847\n",
       "2         1.404847\n",
       "3         1.353769\n",
       "4         1.292475"
      ]
     },
     "execution_count": 16,
     "metadata": {},
     "output_type": "execute_result"
    }
   ],
   "source": [
    "dew_temperature_feature = pd.DataFrame(dew_temperature_pipeline.fit_transform(tw_copy))\n",
    "dew_temperature_feature.head()"
   ]
  },
  {
   "cell_type": "code",
   "execution_count": 17,
   "metadata": {},
   "outputs": [
    {
     "data": {
      "text/plain": [
       "0"
      ]
     },
     "execution_count": 17,
     "metadata": {},
     "output_type": "execute_result"
    }
   ],
   "source": [
    "dew_temperature_feature.dew_temperature.isna().sum()"
   ]
  },
  {
   "cell_type": "code",
   "execution_count": 18,
   "metadata": {},
   "outputs": [
    {
     "name": "stdout",
     "output_type": "stream",
     "text": [
      "mean = 0.0, variance = 1.0\n"
     ]
    }
   ],
   "source": [
    "check_mean_and_variance(dew_temperature_feature.dew_temperature)"
   ]
  },
  {
   "cell_type": "markdown",
   "metadata": {},
   "source": [
    "We can see that there is zero missing values and values are properly scaled."
   ]
  },
  {
   "cell_type": "markdown",
   "metadata": {},
   "source": [
    "In this preprocessing we focus on replacing outliers with 5th percentile or 95th percentile."
   ]
  },
  {
   "cell_type": "code",
   "execution_count": 19,
   "metadata": {},
   "outputs": [
    {
     "data": {
      "text/html": [
       "<div>\n",
       "<style scoped>\n",
       "    .dataframe tbody tr th:only-of-type {\n",
       "        vertical-align: middle;\n",
       "    }\n",
       "\n",
       "    .dataframe tbody tr th {\n",
       "        vertical-align: top;\n",
       "    }\n",
       "\n",
       "    .dataframe thead th {\n",
       "        text-align: right;\n",
       "    }\n",
       "</style>\n",
       "<table border=\"1\" class=\"dataframe\">\n",
       "  <thead>\n",
       "    <tr style=\"text-align: right;\">\n",
       "      <th></th>\n",
       "      <th>dew_temperature</th>\n",
       "    </tr>\n",
       "  </thead>\n",
       "  <tbody>\n",
       "    <tr>\n",
       "      <th>0</th>\n",
       "      <td>1.314705</td>\n",
       "    </tr>\n",
       "    <tr>\n",
       "      <th>1</th>\n",
       "      <td>1.429847</td>\n",
       "    </tr>\n",
       "    <tr>\n",
       "      <th>2</th>\n",
       "      <td>1.429847</td>\n",
       "    </tr>\n",
       "    <tr>\n",
       "      <th>3</th>\n",
       "      <td>1.377510</td>\n",
       "    </tr>\n",
       "    <tr>\n",
       "      <th>4</th>\n",
       "      <td>1.314705</td>\n",
       "    </tr>\n",
       "  </tbody>\n",
       "</table>\n",
       "</div>"
      ],
      "text/plain": [
       "   dew_temperature\n",
       "0         1.314705\n",
       "1         1.429847\n",
       "2         1.429847\n",
       "3         1.377510\n",
       "4         1.314705"
      ]
     },
     "execution_count": 19,
     "metadata": {},
     "output_type": "execute_result"
    }
   ],
   "source": [
    "dew_temperature_without_outliers_feature = \\\n",
    "    pd.DataFrame(dew_temperature_without_outliers_pipeline.fit_transform(tw_copy))\n",
    "dew_temperature_without_outliers_feature.head()"
   ]
  },
  {
   "cell_type": "code",
   "execution_count": 20,
   "metadata": {},
   "outputs": [
    {
     "name": "stdout",
     "output_type": "stream",
     "text": [
      "lower bound: -2.882740752309666\n",
      "upper bound: 2.8952894356771677\n"
     ]
    },
    {
     "data": {
      "text/html": [
       "<div>\n",
       "<style scoped>\n",
       "    .dataframe tbody tr th:only-of-type {\n",
       "        vertical-align: middle;\n",
       "    }\n",
       "\n",
       "    .dataframe tbody tr th {\n",
       "        vertical-align: top;\n",
       "    }\n",
       "\n",
       "    .dataframe thead th {\n",
       "        text-align: right;\n",
       "    }\n",
       "</style>\n",
       "<table border=\"1\" class=\"dataframe\">\n",
       "  <thead>\n",
       "    <tr style=\"text-align: right;\">\n",
       "      <th></th>\n",
       "      <th>dew_temperature</th>\n",
       "    </tr>\n",
       "  </thead>\n",
       "  <tbody>\n",
       "    <tr>\n",
       "      <th>62510</th>\n",
       "      <td>-2.882741</td>\n",
       "    </tr>\n",
       "    <tr>\n",
       "      <th>62793</th>\n",
       "      <td>-2.882741</td>\n",
       "    </tr>\n",
       "    <tr>\n",
       "      <th>97470</th>\n",
       "      <td>-2.882741</td>\n",
       "    </tr>\n",
       "    <tr>\n",
       "      <th>97753</th>\n",
       "      <td>-2.882741</td>\n",
       "    </tr>\n",
       "  </tbody>\n",
       "</table>\n",
       "</div>"
      ],
      "text/plain": [
       "       dew_temperature\n",
       "62510        -2.882741\n",
       "62793        -2.882741\n",
       "97470        -2.882741\n",
       "97753        -2.882741"
      ]
     },
     "execution_count": 20,
     "metadata": {},
     "output_type": "execute_result"
    }
   ],
   "source": [
    "get_outliers(dew_temperature_without_outliers_feature, 'dew_temperature')"
   ]
  },
  {
   "cell_type": "markdown",
   "metadata": {},
   "source": [
    "We can see that outliers were correctly replaced."
   ]
  },
  {
   "cell_type": "markdown",
   "metadata": {},
   "source": [
    "### Sea level pressure"
   ]
  },
  {
   "cell_type": "markdown",
   "metadata": {},
   "source": [
    "In this preprocessing we fill in missing values using rolling average and scale values to zero mean unit variance."
   ]
  },
  {
   "cell_type": "code",
   "execution_count": 21,
   "metadata": {
    "scrolled": true
   },
   "outputs": [
    {
     "data": {
      "text/html": [
       "<div>\n",
       "<style scoped>\n",
       "    .dataframe tbody tr th:only-of-type {\n",
       "        vertical-align: middle;\n",
       "    }\n",
       "\n",
       "    .dataframe tbody tr th {\n",
       "        vertical-align: top;\n",
       "    }\n",
       "\n",
       "    .dataframe thead th {\n",
       "        text-align: right;\n",
       "    }\n",
       "</style>\n",
       "<table border=\"1\" class=\"dataframe\">\n",
       "  <thead>\n",
       "    <tr style=\"text-align: right;\">\n",
       "      <th></th>\n",
       "      <th>sea_level_pressure</th>\n",
       "    </tr>\n",
       "  </thead>\n",
       "  <tbody>\n",
       "    <tr>\n",
       "      <th>0</th>\n",
       "      <td>0.466649</td>\n",
       "    </tr>\n",
       "    <tr>\n",
       "      <th>1</th>\n",
       "      <td>0.532188</td>\n",
       "    </tr>\n",
       "    <tr>\n",
       "      <th>2</th>\n",
       "      <td>0.532188</td>\n",
       "    </tr>\n",
       "    <tr>\n",
       "      <th>3</th>\n",
       "      <td>0.519080</td>\n",
       "    </tr>\n",
       "    <tr>\n",
       "      <th>4</th>\n",
       "      <td>0.505972</td>\n",
       "    </tr>\n",
       "  </tbody>\n",
       "</table>\n",
       "</div>"
      ],
      "text/plain": [
       "   sea_level_pressure\n",
       "0            0.466649\n",
       "1            0.532188\n",
       "2            0.532188\n",
       "3            0.519080\n",
       "4            0.505972"
      ]
     },
     "execution_count": 21,
     "metadata": {},
     "output_type": "execute_result"
    }
   ],
   "source": [
    "sea_level_pressure_feature = pd.DataFrame(sea_level_pressure_pipeline.fit_transform(tw_copy))\n",
    "sea_level_pressure_feature.head()"
   ]
  },
  {
   "cell_type": "code",
   "execution_count": 22,
   "metadata": {},
   "outputs": [
    {
     "data": {
      "text/plain": [
       "8755"
      ]
     },
     "execution_count": 22,
     "metadata": {},
     "output_type": "execute_result"
    }
   ],
   "source": [
    "sea_level_pressure_feature.sea_level_pressure.isna().sum()"
   ]
  },
  {
   "cell_type": "markdown",
   "metadata": {},
   "source": [
    "Since there are still some missing values, we will look into them to find out why they were not filled in with some value."
   ]
  },
  {
   "cell_type": "code",
   "execution_count": 23,
   "metadata": {},
   "outputs": [
    {
     "data": {
      "text/plain": [
       "10618"
      ]
     },
     "execution_count": 23,
     "metadata": {},
     "output_type": "execute_result"
    }
   ],
   "source": [
    "train_weather[train_weather.sea_level_pressure.isna()].sea_level_pressure.isna().sum()"
   ]
  },
  {
   "cell_type": "markdown",
   "metadata": {},
   "source": [
    "We can see that although some values were filled in, most were not."
   ]
  },
  {
   "cell_type": "code",
   "execution_count": 24,
   "metadata": {},
   "outputs": [
    {
     "data": {
      "text/html": [
       "<div>\n",
       "<style scoped>\n",
       "    .dataframe tbody tr th:only-of-type {\n",
       "        vertical-align: middle;\n",
       "    }\n",
       "\n",
       "    .dataframe tbody tr th {\n",
       "        vertical-align: top;\n",
       "    }\n",
       "\n",
       "    .dataframe thead th {\n",
       "        text-align: right;\n",
       "    }\n",
       "</style>\n",
       "<table border=\"1\" class=\"dataframe\">\n",
       "  <thead>\n",
       "    <tr style=\"text-align: right;\">\n",
       "      <th></th>\n",
       "      <th>timestamp</th>\n",
       "      <th>air_temperature</th>\n",
       "      <th>cloud_coverage</th>\n",
       "      <th>dew_temperature</th>\n",
       "      <th>precip_depth_1_hr</th>\n",
       "      <th>sea_level_pressure</th>\n",
       "      <th>wind_direction</th>\n",
       "      <th>wind_speed</th>\n",
       "    </tr>\n",
       "    <tr>\n",
       "      <th>site_id</th>\n",
       "      <th></th>\n",
       "      <th></th>\n",
       "      <th></th>\n",
       "      <th></th>\n",
       "      <th></th>\n",
       "      <th></th>\n",
       "      <th></th>\n",
       "      <th></th>\n",
       "    </tr>\n",
       "  </thead>\n",
       "  <tbody>\n",
       "    <tr>\n",
       "      <th>0</th>\n",
       "      <td>8784</td>\n",
       "      <td>8781</td>\n",
       "      <td>4954</td>\n",
       "      <td>8781</td>\n",
       "      <td>8783</td>\n",
       "      <td>8699</td>\n",
       "      <td>8534</td>\n",
       "      <td>8784</td>\n",
       "    </tr>\n",
       "    <tr>\n",
       "      <th>1</th>\n",
       "      <td>8763</td>\n",
       "      <td>8762</td>\n",
       "      <td>1701</td>\n",
       "      <td>8762</td>\n",
       "      <td>0</td>\n",
       "      <td>8711</td>\n",
       "      <td>8760</td>\n",
       "      <td>8763</td>\n",
       "    </tr>\n",
       "    <tr>\n",
       "      <th>2</th>\n",
       "      <td>8783</td>\n",
       "      <td>8782</td>\n",
       "      <td>6429</td>\n",
       "      <td>8782</td>\n",
       "      <td>8717</td>\n",
       "      <td>8739</td>\n",
       "      <td>8192</td>\n",
       "      <td>8778</td>\n",
       "    </tr>\n",
       "    <tr>\n",
       "      <th>3</th>\n",
       "      <td>8780</td>\n",
       "      <td>8776</td>\n",
       "      <td>5138</td>\n",
       "      <td>8774</td>\n",
       "      <td>8743</td>\n",
       "      <td>8622</td>\n",
       "      <td>8627</td>\n",
       "      <td>8776</td>\n",
       "    </tr>\n",
       "    <tr>\n",
       "      <th>4</th>\n",
       "      <td>8783</td>\n",
       "      <td>8783</td>\n",
       "      <td>4553</td>\n",
       "      <td>8781</td>\n",
       "      <td>7466</td>\n",
       "      <td>8710</td>\n",
       "      <td>8678</td>\n",
       "      <td>8783</td>\n",
       "    </tr>\n",
       "    <tr>\n",
       "      <th>5</th>\n",
       "      <td>8755</td>\n",
       "      <td>8753</td>\n",
       "      <td>2725</td>\n",
       "      <td>8753</td>\n",
       "      <td>0</td>\n",
       "      <td>0</td>\n",
       "      <td>8460</td>\n",
       "      <td>8752</td>\n",
       "    </tr>\n",
       "    <tr>\n",
       "      <th>6</th>\n",
       "      <td>8782</td>\n",
       "      <td>8772</td>\n",
       "      <td>5790</td>\n",
       "      <td>8772</td>\n",
       "      <td>8782</td>\n",
       "      <td>8607</td>\n",
       "      <td>8003</td>\n",
       "      <td>8743</td>\n",
       "    </tr>\n",
       "    <tr>\n",
       "      <th>7</th>\n",
       "      <td>8614</td>\n",
       "      <td>8614</td>\n",
       "      <td>0</td>\n",
       "      <td>8591</td>\n",
       "      <td>731</td>\n",
       "      <td>8606</td>\n",
       "      <td>8614</td>\n",
       "      <td>8614</td>\n",
       "    </tr>\n",
       "    <tr>\n",
       "      <th>8</th>\n",
       "      <td>8784</td>\n",
       "      <td>8781</td>\n",
       "      <td>4954</td>\n",
       "      <td>8781</td>\n",
       "      <td>8783</td>\n",
       "      <td>8699</td>\n",
       "      <td>8534</td>\n",
       "      <td>8784</td>\n",
       "    </tr>\n",
       "    <tr>\n",
       "      <th>9</th>\n",
       "      <td>8780</td>\n",
       "      <td>8775</td>\n",
       "      <td>5322</td>\n",
       "      <td>8773</td>\n",
       "      <td>8773</td>\n",
       "      <td>8541</td>\n",
       "      <td>6222</td>\n",
       "      <td>8683</td>\n",
       "    </tr>\n",
       "    <tr>\n",
       "      <th>10</th>\n",
       "      <td>8782</td>\n",
       "      <td>8758</td>\n",
       "      <td>6332</td>\n",
       "      <td>8755</td>\n",
       "      <td>8755</td>\n",
       "      <td>8641</td>\n",
       "      <td>8248</td>\n",
       "      <td>8678</td>\n",
       "    </tr>\n",
       "    <tr>\n",
       "      <th>11</th>\n",
       "      <td>8614</td>\n",
       "      <td>8614</td>\n",
       "      <td>0</td>\n",
       "      <td>8591</td>\n",
       "      <td>731</td>\n",
       "      <td>8606</td>\n",
       "      <td>8614</td>\n",
       "      <td>8614</td>\n",
       "    </tr>\n",
       "    <tr>\n",
       "      <th>12</th>\n",
       "      <td>8755</td>\n",
       "      <td>8755</td>\n",
       "      <td>8696</td>\n",
       "      <td>8755</td>\n",
       "      <td>0</td>\n",
       "      <td>8699</td>\n",
       "      <td>8754</td>\n",
       "      <td>8755</td>\n",
       "    </tr>\n",
       "    <tr>\n",
       "      <th>13</th>\n",
       "      <td>8783</td>\n",
       "      <td>8782</td>\n",
       "      <td>4485</td>\n",
       "      <td>8782</td>\n",
       "      <td>8771</td>\n",
       "      <td>8663</td>\n",
       "      <td>8566</td>\n",
       "      <td>8782</td>\n",
       "    </tr>\n",
       "    <tr>\n",
       "      <th>14</th>\n",
       "      <td>8777</td>\n",
       "      <td>8776</td>\n",
       "      <td>5466</td>\n",
       "      <td>8776</td>\n",
       "      <td>8746</td>\n",
       "      <td>8667</td>\n",
       "      <td>8487</td>\n",
       "      <td>8754</td>\n",
       "    </tr>\n",
       "    <tr>\n",
       "      <th>15</th>\n",
       "      <td>8454</td>\n",
       "      <td>8454</td>\n",
       "      <td>4055</td>\n",
       "      <td>8451</td>\n",
       "      <td>1703</td>\n",
       "      <td>7945</td>\n",
       "      <td>8212</td>\n",
       "      <td>8426</td>\n",
       "    </tr>\n",
       "  </tbody>\n",
       "</table>\n",
       "</div>"
      ],
      "text/plain": [
       "         timestamp  air_temperature  cloud_coverage  dew_temperature  \\\n",
       "site_id                                                                \n",
       "0             8784             8781            4954             8781   \n",
       "1             8763             8762            1701             8762   \n",
       "2             8783             8782            6429             8782   \n",
       "3             8780             8776            5138             8774   \n",
       "4             8783             8783            4553             8781   \n",
       "5             8755             8753            2725             8753   \n",
       "6             8782             8772            5790             8772   \n",
       "7             8614             8614               0             8591   \n",
       "8             8784             8781            4954             8781   \n",
       "9             8780             8775            5322             8773   \n",
       "10            8782             8758            6332             8755   \n",
       "11            8614             8614               0             8591   \n",
       "12            8755             8755            8696             8755   \n",
       "13            8783             8782            4485             8782   \n",
       "14            8777             8776            5466             8776   \n",
       "15            8454             8454            4055             8451   \n",
       "\n",
       "         precip_depth_1_hr  sea_level_pressure  wind_direction  wind_speed  \n",
       "site_id                                                                     \n",
       "0                     8783                8699            8534        8784  \n",
       "1                        0                8711            8760        8763  \n",
       "2                     8717                8739            8192        8778  \n",
       "3                     8743                8622            8627        8776  \n",
       "4                     7466                8710            8678        8783  \n",
       "5                        0                   0            8460        8752  \n",
       "6                     8782                8607            8003        8743  \n",
       "7                      731                8606            8614        8614  \n",
       "8                     8783                8699            8534        8784  \n",
       "9                     8773                8541            6222        8683  \n",
       "10                    8755                8641            8248        8678  \n",
       "11                     731                8606            8614        8614  \n",
       "12                       0                8699            8754        8755  \n",
       "13                    8771                8663            8566        8782  \n",
       "14                    8746                8667            8487        8754  \n",
       "15                    1703                7945            8212        8426  "
      ]
     },
     "execution_count": 24,
     "metadata": {},
     "output_type": "execute_result"
    }
   ],
   "source": [
    "train_weather.groupby(['site_id']).count()"
   ]
  },
  {
   "cell_type": "markdown",
   "metadata": {},
   "source": [
    "We can see that for 5th site there are no values of sea_level_pressure and therefore we have no way of filling in these data. Also precipitation is missing for that site.\n",
    "\n",
    "We will probably throw away this attribute or site, because we have no way of filling in data."
   ]
  },
  {
   "cell_type": "code",
   "execution_count": 25,
   "metadata": {},
   "outputs": [
    {
     "name": "stdout",
     "output_type": "stream",
     "text": [
      "mean = 0.0, variance = 1.0\n"
     ]
    }
   ],
   "source": [
    "check_mean_and_variance(sea_level_pressure_feature.sea_level_pressure)"
   ]
  },
  {
   "cell_type": "markdown",
   "metadata": {},
   "source": [
    "### Wind speed"
   ]
  },
  {
   "cell_type": "markdown",
   "metadata": {},
   "source": [
    "In this preprocessing we fill in missing values using rolling average and scale values to zero mean unit variance."
   ]
  },
  {
   "cell_type": "code",
   "execution_count": 26,
   "metadata": {
    "scrolled": true
   },
   "outputs": [
    {
     "data": {
      "text/html": [
       "<div>\n",
       "<style scoped>\n",
       "    .dataframe tbody tr th:only-of-type {\n",
       "        vertical-align: middle;\n",
       "    }\n",
       "\n",
       "    .dataframe tbody tr th {\n",
       "        vertical-align: top;\n",
       "    }\n",
       "\n",
       "    .dataframe thead th {\n",
       "        text-align: right;\n",
       "    }\n",
       "</style>\n",
       "<table border=\"1\" class=\"dataframe\">\n",
       "  <thead>\n",
       "    <tr style=\"text-align: right;\">\n",
       "      <th></th>\n",
       "      <th>wind_speed</th>\n",
       "    </tr>\n",
       "  </thead>\n",
       "  <tbody>\n",
       "    <tr>\n",
       "      <th>0</th>\n",
       "      <td>-1.524278</td>\n",
       "    </tr>\n",
       "    <tr>\n",
       "      <th>1</th>\n",
       "      <td>-0.881804</td>\n",
       "    </tr>\n",
       "    <tr>\n",
       "      <th>2</th>\n",
       "      <td>-1.524278</td>\n",
       "    </tr>\n",
       "    <tr>\n",
       "      <th>3</th>\n",
       "      <td>-1.524278</td>\n",
       "    </tr>\n",
       "    <tr>\n",
       "      <th>4</th>\n",
       "      <td>-0.410656</td>\n",
       "    </tr>\n",
       "  </tbody>\n",
       "</table>\n",
       "</div>"
      ],
      "text/plain": [
       "   wind_speed\n",
       "0   -1.524278\n",
       "1   -0.881804\n",
       "2   -1.524278\n",
       "3   -1.524278\n",
       "4   -0.410656"
      ]
     },
     "execution_count": 26,
     "metadata": {},
     "output_type": "execute_result"
    }
   ],
   "source": [
    "wind_speed_feature = pd.DataFrame(wind_speed_pipeline.fit_transform(tw_copy))\n",
    "wind_speed_feature.head()"
   ]
  },
  {
   "cell_type": "code",
   "execution_count": 27,
   "metadata": {},
   "outputs": [
    {
     "data": {
      "text/plain": [
       "0"
      ]
     },
     "execution_count": 27,
     "metadata": {},
     "output_type": "execute_result"
    }
   ],
   "source": [
    "wind_speed_feature.wind_speed.isna().sum()"
   ]
  },
  {
   "cell_type": "code",
   "execution_count": 28,
   "metadata": {},
   "outputs": [
    {
     "name": "stdout",
     "output_type": "stream",
     "text": [
      "mean = -0.0, variance = 1.0\n"
     ]
    }
   ],
   "source": [
    "check_mean_and_variance(wind_speed_feature.wind_speed)"
   ]
  },
  {
   "cell_type": "markdown",
   "metadata": {},
   "source": [
    "We can see that there is zero missing values and values are properly scaled."
   ]
  },
  {
   "cell_type": "markdown",
   "metadata": {},
   "source": [
    "In this preprocessing we focus on replacing outliers with 5th percentile or 95th percentile."
   ]
  },
  {
   "cell_type": "code",
   "execution_count": 29,
   "metadata": {},
   "outputs": [
    {
     "data": {
      "text/html": [
       "<div>\n",
       "<style scoped>\n",
       "    .dataframe tbody tr th:only-of-type {\n",
       "        vertical-align: middle;\n",
       "    }\n",
       "\n",
       "    .dataframe tbody tr th {\n",
       "        vertical-align: top;\n",
       "    }\n",
       "\n",
       "    .dataframe thead th {\n",
       "        text-align: right;\n",
       "    }\n",
       "</style>\n",
       "<table border=\"1\" class=\"dataframe\">\n",
       "  <thead>\n",
       "    <tr style=\"text-align: right;\">\n",
       "      <th></th>\n",
       "      <th>wind_speed</th>\n",
       "    </tr>\n",
       "  </thead>\n",
       "  <tbody>\n",
       "    <tr>\n",
       "      <th>0</th>\n",
       "      <td>-1.609404</td>\n",
       "    </tr>\n",
       "    <tr>\n",
       "      <th>1</th>\n",
       "      <td>-0.919681</td>\n",
       "    </tr>\n",
       "    <tr>\n",
       "      <th>2</th>\n",
       "      <td>-1.609404</td>\n",
       "    </tr>\n",
       "    <tr>\n",
       "      <th>3</th>\n",
       "      <td>-1.609404</td>\n",
       "    </tr>\n",
       "    <tr>\n",
       "      <th>4</th>\n",
       "      <td>-0.413884</td>\n",
       "    </tr>\n",
       "  </tbody>\n",
       "</table>\n",
       "</div>"
      ],
      "text/plain": [
       "   wind_speed\n",
       "0   -1.609404\n",
       "1   -0.919681\n",
       "2   -1.609404\n",
       "3   -1.609404\n",
       "4   -0.413884"
      ]
     },
     "execution_count": 29,
     "metadata": {},
     "output_type": "execute_result"
    }
   ],
   "source": [
    "wind_speed_without_outliers_feature = \\\n",
    "    pd.DataFrame(wind_speed_without_outliers_pipeline.fit_transform(tw_copy))\n",
    "wind_speed_without_outliers_feature.head()"
   ]
  },
  {
   "cell_type": "code",
   "execution_count": 30,
   "metadata": {},
   "outputs": [
    {
     "name": "stdout",
     "output_type": "stream",
     "text": [
      "lower bound: -2.6439894378040787\n",
      "upper bound: 2.6898716490125114\n"
     ]
    },
    {
     "data": {
      "text/html": [
       "<div>\n",
       "<style scoped>\n",
       "    .dataframe tbody tr th:only-of-type {\n",
       "        vertical-align: middle;\n",
       "    }\n",
       "\n",
       "    .dataframe tbody tr th {\n",
       "        vertical-align: top;\n",
       "    }\n",
       "\n",
       "    .dataframe thead th {\n",
       "        text-align: right;\n",
       "    }\n",
       "</style>\n",
       "<table border=\"1\" class=\"dataframe\">\n",
       "  <thead>\n",
       "    <tr style=\"text-align: right;\">\n",
       "      <th></th>\n",
       "      <th>wind_speed</th>\n",
       "    </tr>\n",
       "  </thead>\n",
       "  <tbody>\n",
       "  </tbody>\n",
       "</table>\n",
       "</div>"
      ],
      "text/plain": [
       "Empty DataFrame\n",
       "Columns: [wind_speed]\n",
       "Index: []"
      ]
     },
     "execution_count": 30,
     "metadata": {},
     "output_type": "execute_result"
    }
   ],
   "source": [
    "get_outliers(wind_speed_without_outliers_feature, 'wind_speed')"
   ]
  },
  {
   "cell_type": "markdown",
   "metadata": {},
   "source": [
    "We can see that outliers were correctly replaced."
   ]
  },
  {
   "cell_type": "markdown",
   "metadata": {},
   "source": [
    "### Wind direction"
   ]
  },
  {
   "cell_type": "markdown",
   "metadata": {},
   "source": [
    "In this preprocessing we fill in missing values using rolling average and scale values to zero mean unit variance."
   ]
  },
  {
   "cell_type": "code",
   "execution_count": 31,
   "metadata": {
    "scrolled": true
   },
   "outputs": [
    {
     "data": {
      "text/html": [
       "<div>\n",
       "<style scoped>\n",
       "    .dataframe tbody tr th:only-of-type {\n",
       "        vertical-align: middle;\n",
       "    }\n",
       "\n",
       "    .dataframe tbody tr th {\n",
       "        vertical-align: top;\n",
       "    }\n",
       "\n",
       "    .dataframe thead th {\n",
       "        text-align: right;\n",
       "    }\n",
       "</style>\n",
       "<table border=\"1\" class=\"dataframe\">\n",
       "  <thead>\n",
       "    <tr style=\"text-align: right;\">\n",
       "      <th></th>\n",
       "      <th>wind_direction</th>\n",
       "    </tr>\n",
       "  </thead>\n",
       "  <tbody>\n",
       "    <tr>\n",
       "      <th>0</th>\n",
       "      <td>-1.615903</td>\n",
       "    </tr>\n",
       "    <tr>\n",
       "      <th>1</th>\n",
       "      <td>-0.983175</td>\n",
       "    </tr>\n",
       "    <tr>\n",
       "      <th>2</th>\n",
       "      <td>-1.615903</td>\n",
       "    </tr>\n",
       "    <tr>\n",
       "      <th>3</th>\n",
       "      <td>-1.615903</td>\n",
       "    </tr>\n",
       "    <tr>\n",
       "      <th>4</th>\n",
       "      <td>0.643840</td>\n",
       "    </tr>\n",
       "  </tbody>\n",
       "</table>\n",
       "</div>"
      ],
      "text/plain": [
       "   wind_direction\n",
       "0       -1.615903\n",
       "1       -0.983175\n",
       "2       -1.615903\n",
       "3       -1.615903\n",
       "4        0.643840"
      ]
     },
     "execution_count": 31,
     "metadata": {},
     "output_type": "execute_result"
    }
   ],
   "source": [
    "wind_direction_feature = pd.DataFrame(wind_direction_pipeline.fit_transform(tw_copy))\n",
    "wind_direction_feature.head()"
   ]
  },
  {
   "cell_type": "code",
   "execution_count": 32,
   "metadata": {},
   "outputs": [
    {
     "data": {
      "text/plain": [
       "0"
      ]
     },
     "execution_count": 32,
     "metadata": {},
     "output_type": "execute_result"
    }
   ],
   "source": [
    "wind_direction_feature.wind_direction.isna().sum()"
   ]
  },
  {
   "cell_type": "code",
   "execution_count": 33,
   "metadata": {},
   "outputs": [
    {
     "name": "stdout",
     "output_type": "stream",
     "text": [
      "mean = -0.0, variance = 1.0\n"
     ]
    }
   ],
   "source": [
    "check_mean_and_variance(wind_direction_feature.wind_direction)"
   ]
  },
  {
   "cell_type": "markdown",
   "metadata": {},
   "source": [
    "We can see that there is zero missing values and values are properly scaled."
   ]
  },
  {
   "cell_type": "markdown",
   "metadata": {},
   "source": [
    "### Union of features"
   ]
  },
  {
   "cell_type": "markdown",
   "metadata": {},
   "source": [
    "The resulting weather data looks following."
   ]
  },
  {
   "cell_type": "code",
   "execution_count": 34,
   "metadata": {},
   "outputs": [
    {
     "data": {
      "text/html": [
       "<div>\n",
       "<style scoped>\n",
       "    .dataframe tbody tr th:only-of-type {\n",
       "        vertical-align: middle;\n",
       "    }\n",
       "\n",
       "    .dataframe tbody tr th {\n",
       "        vertical-align: top;\n",
       "    }\n",
       "\n",
       "    .dataframe thead th {\n",
       "        text-align: right;\n",
       "    }\n",
       "</style>\n",
       "<table border=\"1\" class=\"dataframe\">\n",
       "  <thead>\n",
       "    <tr style=\"text-align: right;\">\n",
       "      <th></th>\n",
       "      <th>site_id</th>\n",
       "      <th>timestamp</th>\n",
       "      <th>air_temperature</th>\n",
       "      <th>dew_temperature</th>\n",
       "      <th>wind_direction</th>\n",
       "      <th>wind_speed</th>\n",
       "    </tr>\n",
       "  </thead>\n",
       "  <tbody>\n",
       "    <tr>\n",
       "      <th>0</th>\n",
       "      <td>0</td>\n",
       "      <td>2016-01-01 00:00:00</td>\n",
       "      <td>0.995738</td>\n",
       "      <td>1.29247</td>\n",
       "      <td>-1.6159</td>\n",
       "      <td>-1.52428</td>\n",
       "    </tr>\n",
       "    <tr>\n",
       "      <th>1</th>\n",
       "      <td>0</td>\n",
       "      <td>2016-01-01 01:00:00</td>\n",
       "      <td>0.939274</td>\n",
       "      <td>1.40485</td>\n",
       "      <td>-0.983175</td>\n",
       "      <td>-0.881804</td>\n",
       "    </tr>\n",
       "    <tr>\n",
       "      <th>2</th>\n",
       "      <td>0</td>\n",
       "      <td>2016-01-01 02:00:00</td>\n",
       "      <td>0.788704</td>\n",
       "      <td>1.40485</td>\n",
       "      <td>-1.6159</td>\n",
       "      <td>-1.52428</td>\n",
       "    </tr>\n",
       "    <tr>\n",
       "      <th>3</th>\n",
       "      <td>0</td>\n",
       "      <td>2016-01-01 03:00:00</td>\n",
       "      <td>0.628723</td>\n",
       "      <td>1.35377</td>\n",
       "      <td>-1.6159</td>\n",
       "      <td>-1.52428</td>\n",
       "    </tr>\n",
       "    <tr>\n",
       "      <th>4</th>\n",
       "      <td>0</td>\n",
       "      <td>2016-01-01 04:00:00</td>\n",
       "      <td>0.525206</td>\n",
       "      <td>1.29247</td>\n",
       "      <td>0.64384</td>\n",
       "      <td>-0.410656</td>\n",
       "    </tr>\n",
       "    <tr>\n",
       "      <th>...</th>\n",
       "      <td>...</td>\n",
       "      <td>...</td>\n",
       "      <td>...</td>\n",
       "      <td>...</td>\n",
       "      <td>...</td>\n",
       "      <td>...</td>\n",
       "    </tr>\n",
       "    <tr>\n",
       "      <th>139768</th>\n",
       "      <td>15</td>\n",
       "      <td>2016-12-31 19:00:00</td>\n",
       "      <td>-1.0746</td>\n",
       "      <td>-1.56789</td>\n",
       "      <td>0.0111115</td>\n",
       "      <td>0.917124</td>\n",
       "    </tr>\n",
       "    <tr>\n",
       "      <th>139769</th>\n",
       "      <td>15</td>\n",
       "      <td>2016-12-31 20:00:00</td>\n",
       "      <td>-1.09343</td>\n",
       "      <td>-1.65983</td>\n",
       "      <td>0.0111115</td>\n",
       "      <td>1.77376</td>\n",
       "    </tr>\n",
       "    <tr>\n",
       "      <th>139770</th>\n",
       "      <td>15</td>\n",
       "      <td>2016-12-31 21:00:00</td>\n",
       "      <td>-1.09343</td>\n",
       "      <td>-1.48617</td>\n",
       "      <td>0.0111115</td>\n",
       "      <td>0.660134</td>\n",
       "    </tr>\n",
       "    <tr>\n",
       "      <th>139771</th>\n",
       "      <td>15</td>\n",
       "      <td>2016-12-31 22:00:00</td>\n",
       "      <td>-1.14989</td>\n",
       "      <td>-1.43509</td>\n",
       "      <td>-0.0792782</td>\n",
       "      <td>0.445976</td>\n",
       "    </tr>\n",
       "    <tr>\n",
       "      <th>139772</th>\n",
       "      <td>15</td>\n",
       "      <td>2016-12-31 23:00:00</td>\n",
       "      <td>-1.19694</td>\n",
       "      <td>-1.32272</td>\n",
       "      <td>0.0111115</td>\n",
       "      <td>2.2449</td>\n",
       "    </tr>\n",
       "  </tbody>\n",
       "</table>\n",
       "<p>139773 rows × 6 columns</p>\n",
       "</div>"
      ],
      "text/plain": [
       "       site_id            timestamp air_temperature dew_temperature  \\\n",
       "0            0  2016-01-01 00:00:00        0.995738         1.29247   \n",
       "1            0  2016-01-01 01:00:00        0.939274         1.40485   \n",
       "2            0  2016-01-01 02:00:00        0.788704         1.40485   \n",
       "3            0  2016-01-01 03:00:00        0.628723         1.35377   \n",
       "4            0  2016-01-01 04:00:00        0.525206         1.29247   \n",
       "...        ...                  ...             ...             ...   \n",
       "139768      15  2016-12-31 19:00:00         -1.0746        -1.56789   \n",
       "139769      15  2016-12-31 20:00:00        -1.09343        -1.65983   \n",
       "139770      15  2016-12-31 21:00:00        -1.09343        -1.48617   \n",
       "139771      15  2016-12-31 22:00:00        -1.14989        -1.43509   \n",
       "139772      15  2016-12-31 23:00:00        -1.19694        -1.32272   \n",
       "\n",
       "       wind_direction wind_speed  \n",
       "0             -1.6159   -1.52428  \n",
       "1           -0.983175  -0.881804  \n",
       "2             -1.6159   -1.52428  \n",
       "3             -1.6159   -1.52428  \n",
       "4             0.64384  -0.410656  \n",
       "...               ...        ...  \n",
       "139768      0.0111115   0.917124  \n",
       "139769      0.0111115    1.77376  \n",
       "139770      0.0111115   0.660134  \n",
       "139771     -0.0792782   0.445976  \n",
       "139772      0.0111115     2.2449  \n",
       "\n",
       "[139773 rows x 6 columns]"
      ]
     },
     "execution_count": 34,
     "metadata": {},
     "output_type": "execute_result"
    }
   ],
   "source": [
    "weather_features = weather_fu.union_features(train_weather)\n",
    "weather_features"
   ]
  },
  {
   "cell_type": "code",
   "execution_count": 35,
   "metadata": {},
   "outputs": [
    {
     "data": {
      "text/html": [
       "<div>\n",
       "<style scoped>\n",
       "    .dataframe tbody tr th:only-of-type {\n",
       "        vertical-align: middle;\n",
       "    }\n",
       "\n",
       "    .dataframe tbody tr th {\n",
       "        vertical-align: top;\n",
       "    }\n",
       "\n",
       "    .dataframe thead th {\n",
       "        text-align: right;\n",
       "    }\n",
       "</style>\n",
       "<table border=\"1\" class=\"dataframe\">\n",
       "  <thead>\n",
       "    <tr style=\"text-align: right;\">\n",
       "      <th></th>\n",
       "      <th>site_id</th>\n",
       "      <th>timestamp</th>\n",
       "      <th>air_temperature</th>\n",
       "      <th>dew_temperature</th>\n",
       "      <th>wind_direction</th>\n",
       "      <th>wind_speed</th>\n",
       "    </tr>\n",
       "  </thead>\n",
       "  <tbody>\n",
       "    <tr>\n",
       "      <th>0</th>\n",
       "      <td>0</td>\n",
       "      <td>2016-01-01 00:00:00</td>\n",
       "      <td>1.01022</td>\n",
       "      <td>1.31471</td>\n",
       "      <td>-1.6159</td>\n",
       "      <td>-1.6094</td>\n",
       "    </tr>\n",
       "    <tr>\n",
       "      <th>1</th>\n",
       "      <td>0</td>\n",
       "      <td>2016-01-01 01:00:00</td>\n",
       "      <td>0.952421</td>\n",
       "      <td>1.42985</td>\n",
       "      <td>-0.983175</td>\n",
       "      <td>-0.919681</td>\n",
       "    </tr>\n",
       "    <tr>\n",
       "      <th>2</th>\n",
       "      <td>0</td>\n",
       "      <td>2016-01-01 02:00:00</td>\n",
       "      <td>0.7983</td>\n",
       "      <td>1.42985</td>\n",
       "      <td>-1.6159</td>\n",
       "      <td>-1.6094</td>\n",
       "    </tr>\n",
       "    <tr>\n",
       "      <th>3</th>\n",
       "      <td>0</td>\n",
       "      <td>2016-01-01 03:00:00</td>\n",
       "      <td>0.634545</td>\n",
       "      <td>1.37751</td>\n",
       "      <td>-1.6159</td>\n",
       "      <td>-1.6094</td>\n",
       "    </tr>\n",
       "    <tr>\n",
       "      <th>4</th>\n",
       "      <td>0</td>\n",
       "      <td>2016-01-01 04:00:00</td>\n",
       "      <td>0.528587</td>\n",
       "      <td>1.31471</td>\n",
       "      <td>0.64384</td>\n",
       "      <td>-0.413884</td>\n",
       "    </tr>\n",
       "    <tr>\n",
       "      <th>...</th>\n",
       "      <td>...</td>\n",
       "      <td>...</td>\n",
       "      <td>...</td>\n",
       "      <td>...</td>\n",
       "      <td>...</td>\n",
       "      <td>...</td>\n",
       "    </tr>\n",
       "    <tr>\n",
       "      <th>139768</th>\n",
       "      <td>15</td>\n",
       "      <td>2016-12-31 19:00:00</td>\n",
       "      <td>-1.10896</td>\n",
       "      <td>-1.61618</td>\n",
       "      <td>0.0111115</td>\n",
       "      <td>1.01154</td>\n",
       "    </tr>\n",
       "    <tr>\n",
       "      <th>139769</th>\n",
       "      <td>15</td>\n",
       "      <td>2016-12-31 20:00:00</td>\n",
       "      <td>-1.12822</td>\n",
       "      <td>-1.71039</td>\n",
       "      <td>0.0111115</td>\n",
       "      <td>1.93118</td>\n",
       "    </tr>\n",
       "    <tr>\n",
       "      <th>139770</th>\n",
       "      <td>15</td>\n",
       "      <td>2016-12-31 21:00:00</td>\n",
       "      <td>-1.12822</td>\n",
       "      <td>-1.53244</td>\n",
       "      <td>0.0111115</td>\n",
       "      <td>0.735655</td>\n",
       "    </tr>\n",
       "    <tr>\n",
       "      <th>139771</th>\n",
       "      <td>15</td>\n",
       "      <td>2016-12-31 22:00:00</td>\n",
       "      <td>-1.18602</td>\n",
       "      <td>-1.4801</td>\n",
       "      <td>-0.0792782</td>\n",
       "      <td>0.505747</td>\n",
       "    </tr>\n",
       "    <tr>\n",
       "      <th>139772</th>\n",
       "      <td>15</td>\n",
       "      <td>2016-12-31 23:00:00</td>\n",
       "      <td>-1.23418</td>\n",
       "      <td>-1.36496</td>\n",
       "      <td>0.0111115</td>\n",
       "      <td>2.43697</td>\n",
       "    </tr>\n",
       "  </tbody>\n",
       "</table>\n",
       "<p>139773 rows × 6 columns</p>\n",
       "</div>"
      ],
      "text/plain": [
       "       site_id            timestamp air_temperature dew_temperature  \\\n",
       "0            0  2016-01-01 00:00:00         1.01022         1.31471   \n",
       "1            0  2016-01-01 01:00:00        0.952421         1.42985   \n",
       "2            0  2016-01-01 02:00:00          0.7983         1.42985   \n",
       "3            0  2016-01-01 03:00:00        0.634545         1.37751   \n",
       "4            0  2016-01-01 04:00:00        0.528587         1.31471   \n",
       "...        ...                  ...             ...             ...   \n",
       "139768      15  2016-12-31 19:00:00        -1.10896        -1.61618   \n",
       "139769      15  2016-12-31 20:00:00        -1.12822        -1.71039   \n",
       "139770      15  2016-12-31 21:00:00        -1.12822        -1.53244   \n",
       "139771      15  2016-12-31 22:00:00        -1.18602         -1.4801   \n",
       "139772      15  2016-12-31 23:00:00        -1.23418        -1.36496   \n",
       "\n",
       "       wind_direction wind_speed  \n",
       "0             -1.6159    -1.6094  \n",
       "1           -0.983175  -0.919681  \n",
       "2             -1.6159    -1.6094  \n",
       "3             -1.6159    -1.6094  \n",
       "4             0.64384  -0.413884  \n",
       "...               ...        ...  \n",
       "139768      0.0111115    1.01154  \n",
       "139769      0.0111115    1.93118  \n",
       "139770      0.0111115   0.735655  \n",
       "139771     -0.0792782   0.505747  \n",
       "139772      0.0111115    2.43697  \n",
       "\n",
       "[139773 rows x 6 columns]"
      ]
     },
     "execution_count": 35,
     "metadata": {},
     "output_type": "execute_result"
    }
   ],
   "source": [
    "weather_features = weather_without_outliers_fu.union_features(train_weather)\n",
    "weather_features"
   ]
  },
  {
   "cell_type": "markdown",
   "metadata": {},
   "source": [
    "## Meter data"
   ]
  },
  {
   "cell_type": "code",
   "execution_count": 36,
   "metadata": {},
   "outputs": [
    {
     "data": {
      "text/html": [
       "<div>\n",
       "<style scoped>\n",
       "    .dataframe tbody tr th:only-of-type {\n",
       "        vertical-align: middle;\n",
       "    }\n",
       "\n",
       "    .dataframe tbody tr th {\n",
       "        vertical-align: top;\n",
       "    }\n",
       "\n",
       "    .dataframe thead th {\n",
       "        text-align: right;\n",
       "    }\n",
       "</style>\n",
       "<table border=\"1\" class=\"dataframe\">\n",
       "  <thead>\n",
       "    <tr style=\"text-align: right;\">\n",
       "      <th></th>\n",
       "      <th>building_id</th>\n",
       "      <th>meter</th>\n",
       "      <th>timestamp</th>\n",
       "      <th>meter_reading</th>\n",
       "    </tr>\n",
       "  </thead>\n",
       "  <tbody>\n",
       "    <tr>\n",
       "      <th>0</th>\n",
       "      <td>0</td>\n",
       "      <td>0</td>\n",
       "      <td>2016-01-01 00:00:00</td>\n",
       "      <td>0.000</td>\n",
       "    </tr>\n",
       "    <tr>\n",
       "      <th>1</th>\n",
       "      <td>1</td>\n",
       "      <td>0</td>\n",
       "      <td>2016-01-01 00:00:00</td>\n",
       "      <td>0.000</td>\n",
       "    </tr>\n",
       "    <tr>\n",
       "      <th>2</th>\n",
       "      <td>2</td>\n",
       "      <td>0</td>\n",
       "      <td>2016-01-01 00:00:00</td>\n",
       "      <td>0.000</td>\n",
       "    </tr>\n",
       "    <tr>\n",
       "      <th>3</th>\n",
       "      <td>3</td>\n",
       "      <td>0</td>\n",
       "      <td>2016-01-01 00:00:00</td>\n",
       "      <td>0.000</td>\n",
       "    </tr>\n",
       "    <tr>\n",
       "      <th>4</th>\n",
       "      <td>4</td>\n",
       "      <td>0</td>\n",
       "      <td>2016-01-01 00:00:00</td>\n",
       "      <td>0.000</td>\n",
       "    </tr>\n",
       "    <tr>\n",
       "      <th>...</th>\n",
       "      <td>...</td>\n",
       "      <td>...</td>\n",
       "      <td>...</td>\n",
       "      <td>...</td>\n",
       "    </tr>\n",
       "    <tr>\n",
       "      <th>20216095</th>\n",
       "      <td>1444</td>\n",
       "      <td>0</td>\n",
       "      <td>2016-12-31 23:00:00</td>\n",
       "      <td>8.750</td>\n",
       "    </tr>\n",
       "    <tr>\n",
       "      <th>20216096</th>\n",
       "      <td>1445</td>\n",
       "      <td>0</td>\n",
       "      <td>2016-12-31 23:00:00</td>\n",
       "      <td>4.825</td>\n",
       "    </tr>\n",
       "    <tr>\n",
       "      <th>20216097</th>\n",
       "      <td>1446</td>\n",
       "      <td>0</td>\n",
       "      <td>2016-12-31 23:00:00</td>\n",
       "      <td>0.000</td>\n",
       "    </tr>\n",
       "    <tr>\n",
       "      <th>20216098</th>\n",
       "      <td>1447</td>\n",
       "      <td>0</td>\n",
       "      <td>2016-12-31 23:00:00</td>\n",
       "      <td>159.575</td>\n",
       "    </tr>\n",
       "    <tr>\n",
       "      <th>20216099</th>\n",
       "      <td>1448</td>\n",
       "      <td>0</td>\n",
       "      <td>2016-12-31 23:00:00</td>\n",
       "      <td>2.850</td>\n",
       "    </tr>\n",
       "  </tbody>\n",
       "</table>\n",
       "<p>20216100 rows × 4 columns</p>\n",
       "</div>"
      ],
      "text/plain": [
       "          building_id  meter            timestamp  meter_reading\n",
       "0                   0      0  2016-01-01 00:00:00          0.000\n",
       "1                   1      0  2016-01-01 00:00:00          0.000\n",
       "2                   2      0  2016-01-01 00:00:00          0.000\n",
       "3                   3      0  2016-01-01 00:00:00          0.000\n",
       "4                   4      0  2016-01-01 00:00:00          0.000\n",
       "...               ...    ...                  ...            ...\n",
       "20216095         1444      0  2016-12-31 23:00:00          8.750\n",
       "20216096         1445      0  2016-12-31 23:00:00          4.825\n",
       "20216097         1446      0  2016-12-31 23:00:00          0.000\n",
       "20216098         1447      0  2016-12-31 23:00:00        159.575\n",
       "20216099         1448      0  2016-12-31 23:00:00          2.850\n",
       "\n",
       "[20216100 rows x 4 columns]"
      ]
     },
     "execution_count": 36,
     "metadata": {},
     "output_type": "execute_result"
    }
   ],
   "source": [
    "train_meter = pd.read_csv('data/train.csv')\n",
    "train_meter"
   ]
  },
  {
   "cell_type": "code",
   "execution_count": 37,
   "metadata": {},
   "outputs": [],
   "source": [
    "tm_copy = train_meter.copy()"
   ]
  },
  {
   "cell_type": "markdown",
   "metadata": {},
   "source": [
    "### Meter reading"
   ]
  },
  {
   "cell_type": "markdown",
   "metadata": {},
   "source": [
    "In this preprocessing we select only electricity meter type and meter readings smaller than 200. We also scale values to zero mean unit variance."
   ]
  },
  {
   "cell_type": "code",
   "execution_count": 38,
   "metadata": {},
   "outputs": [
    {
     "data": {
      "text/html": [
       "<div>\n",
       "<style scoped>\n",
       "    .dataframe tbody tr th:only-of-type {\n",
       "        vertical-align: middle;\n",
       "    }\n",
       "\n",
       "    .dataframe tbody tr th {\n",
       "        vertical-align: top;\n",
       "    }\n",
       "\n",
       "    .dataframe thead th {\n",
       "        text-align: right;\n",
       "    }\n",
       "</style>\n",
       "<table border=\"1\" class=\"dataframe\">\n",
       "  <thead>\n",
       "    <tr style=\"text-align: right;\">\n",
       "      <th></th>\n",
       "      <th>meter_reading</th>\n",
       "    </tr>\n",
       "  </thead>\n",
       "  <tbody>\n",
       "    <tr>\n",
       "      <th>0</th>\n",
       "      <td>-1.074995</td>\n",
       "    </tr>\n",
       "    <tr>\n",
       "      <th>1</th>\n",
       "      <td>-1.074995</td>\n",
       "    </tr>\n",
       "    <tr>\n",
       "      <th>2</th>\n",
       "      <td>-1.074995</td>\n",
       "    </tr>\n",
       "    <tr>\n",
       "      <th>3</th>\n",
       "      <td>-1.074995</td>\n",
       "    </tr>\n",
       "    <tr>\n",
       "      <th>4</th>\n",
       "      <td>-1.074995</td>\n",
       "    </tr>\n",
       "  </tbody>\n",
       "</table>\n",
       "</div>"
      ],
      "text/plain": [
       "   meter_reading\n",
       "0      -1.074995\n",
       "1      -1.074995\n",
       "2      -1.074995\n",
       "3      -1.074995\n",
       "4      -1.074995"
      ]
     },
     "execution_count": 38,
     "metadata": {},
     "output_type": "execute_result"
    }
   ],
   "source": [
    "meter_reading_feature = pd.DataFrame(meter_pipeline.fit_transform(tm_copy))\n",
    "meter_reading_feature.head()"
   ]
  },
  {
   "cell_type": "code",
   "execution_count": 40,
   "metadata": {},
   "outputs": [
    {
     "name": "stdout",
     "output_type": "stream",
     "text": [
      "mean = -0.0, variance = 1.0\n"
     ]
    }
   ],
   "source": [
    "check_mean_and_variance(meter_reading_feature.meter_reading)"
   ]
  },
  {
   "cell_type": "markdown",
   "metadata": {},
   "source": [
    "We can see that values are properly scaled. However we can not see that values are only for electricity meter type because returning this column would cause scaling of this electricity type as well."
   ]
  },
  {
   "cell_type": "markdown",
   "metadata": {},
   "source": [
    "### Union of features"
   ]
  },
  {
   "cell_type": "markdown",
   "metadata": {},
   "source": [
    "The resulting meter data looks following."
   ]
  },
  {
   "cell_type": "markdown",
   "metadata": {},
   "source": [
    "TBA"
   ]
  },
  {
   "cell_type": "markdown",
   "metadata": {},
   "source": [
    "## Data merging"
   ]
  },
  {
   "cell_type": "markdown",
   "metadata": {},
   "source": [
    "TBA"
   ]
  }
 ],
 "metadata": {
  "kernelspec": {
   "display_name": "Python 3",
   "language": "python",
   "name": "python3"
  },
  "language_info": {
   "codemirror_mode": {
    "name": "ipython",
    "version": 3
   },
   "file_extension": ".py",
   "mimetype": "text/x-python",
   "name": "python",
   "nbconvert_exporter": "python",
   "pygments_lexer": "ipython3",
   "version": "3.7.5"
  }
 },
 "nbformat": 4,
 "nbformat_minor": 4
}
