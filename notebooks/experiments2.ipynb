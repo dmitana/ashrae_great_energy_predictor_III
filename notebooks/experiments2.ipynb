{
 "cells": [
  {
   "cell_type": "code",
   "execution_count": 1,
   "metadata": {},
   "outputs": [],
   "source": [
    "\"\"\"\n",
    "You need to run this cell for the code in following cells to work.\n",
    "\"\"\"\n",
    "\n",
    "# Enable module reloading\n",
    "%load_ext autoreload\n",
    "%autoreload 2\n",
    "\n",
    "import os\n",
    "os.chdir(\"..\")"
   ]
  },
  {
   "cell_type": "code",
   "execution_count": 2,
   "metadata": {},
   "outputs": [],
   "source": [
    "import math\n",
    "\n",
    "import pandas as pd\n",
    "\n",
    "from sklearn.pipeline import Pipeline\n",
    "from sklearn.metrics import make_scorer\n",
    "\n",
    "import xgboost as xgb\n",
    "\n",
    "from src.data.preprocessing.utils import filter_data, merge_data\n",
    "from src.data.feature_unions import merged_fu, merged_fu_without_outliers\n",
    "from src.experiments.metrics import rmse, nrmse, rmsle"
   ]
  },
  {
   "cell_type": "code",
   "execution_count": 48,
   "metadata": {},
   "outputs": [],
   "source": [
    "def compute_metrics(y_true, y_pred, metrics):\n",
    "    results = {}\n",
    "    for metric_name, metric_fn in metrics.items():\n",
    "        results[metric_name] = metric_fn(y_true, y_pred)\n",
    "    return results\n",
    "\n",
    "metrics = {\n",
    "    'rmse': rmse,\n",
    "    'nrmse': nrmse,\n",
    "    'rmsle': rmsle\n",
    "}\n",
    "\n",
    "def check_sites_transferability(model, metrics, buildings_data, weather_data, meter_data):\n",
    "    results = {key: [] for key in metrics}\n",
    "    results['site_id'] = [i for i in range(16)]\n",
    "    \n",
    "    for i in results['site_id']:\n",
    "        buildings_data_site, weather_data_site, meter_data_site = filter_data(\n",
    "            buildings_data, weather_data, meter_data, site_id=i, meter=0, meter_reading=200\n",
    "        )\n",
    "        data_site = merge_data(buildings_data_site, weather_data_site, meter_data_site)\n",
    "        y_site = data_site[['meter_reading']].values.ravel()\n",
    "        \n",
    "        y_site_pred = model.predict(data_site)\n",
    "        scores = compute_metrics(y_site, y_site_pred, metrics)\n",
    "        \n",
    "        for metric_name, metric_value in scores.items():\n",
    "            results[metric_name].append(metric_value)\n",
    "    return results"
   ]
  },
  {
   "cell_type": "code",
   "execution_count": 4,
   "metadata": {},
   "outputs": [
    {
     "name": "stdout",
     "output_type": "stream",
     "text": [
      "CPU times: user 8.82 s, sys: 802 ms, total: 9.62 s\n",
      "Wall time: 10.6 s\n"
     ]
    }
   ],
   "source": [
    "%%time\n",
    "buildings_data = pd.read_csv('data/building_metadata.csv')\n",
    "weather_data = pd.read_csv('data/weather_train.csv')\n",
    "meter_data = pd.read_csv('data/train.csv')"
   ]
  },
  {
   "cell_type": "markdown",
   "metadata": {},
   "source": [
    "# Transferability between sites"
   ]
  },
  {
   "cell_type": "markdown",
   "metadata": {},
   "source": [
    "In this experiment, we test performance on sites that were not used in training."
   ]
  },
  {
   "cell_type": "code",
   "execution_count": 5,
   "metadata": {},
   "outputs": [
    {
     "name": "stdout",
     "output_type": "stream",
     "text": [
      "CPU times: user 3.1 s, sys: 400 ms, total: 3.5 s\n",
      "Wall time: 3.5 s\n"
     ]
    }
   ],
   "source": [
    "%%time\n",
    "buildings_data_site_id0, weather_data_site_id0, meter_data_site_id0 = filter_data(\n",
    "    buildings_data, weather_data, meter_data, site_id=0, meter=0, meter_reading=200\n",
    ")\n",
    "data = merge_data(buildings_data_site_id0, weather_data_site_id0, meter_data_site_id0)"
   ]
  },
  {
   "cell_type": "code",
   "execution_count": 6,
   "metadata": {},
   "outputs": [
    {
     "data": {
      "text/plain": [
       "(605288,\n",
       " array([  0.    ,   0.    ,   0.    , ...,  47.2332, 142.245 , 132.802 ]))"
      ]
     },
     "execution_count": 6,
     "metadata": {},
     "output_type": "execute_result"
    }
   ],
   "source": [
    "y = data[['meter_reading']].values.ravel()\n",
    "len(y), y"
   ]
  },
  {
   "cell_type": "code",
   "execution_count": 11,
   "metadata": {},
   "outputs": [
    {
     "name": "stdout",
     "output_type": "stream",
     "text": [
      "CPU times: user 3min 30s, sys: 409 ms, total: 3min 30s\n",
      "Wall time: 4min 49s\n"
     ]
    }
   ],
   "source": [
    "%%time\n",
    "model = Pipeline([\n",
    "    ('features', merged_fu_without_outliers),\n",
    "    ('model', xgb.XGBRegressor(\n",
    "        n_jobs=-1, objective='reg:squarederror', booster='gbtree', max_depth=3, eta=0.1, n_estimators=500,\n",
    "        reg_lambda=0\n",
    "    ))\n",
    "])\n",
    "_ = model.fit(data, y)"
   ]
  },
  {
   "cell_type": "code",
   "execution_count": 12,
   "metadata": {},
   "outputs": [],
   "source": [
    "y_pred = model.predict(data)"
   ]
  },
  {
   "cell_type": "code",
   "execution_count": 49,
   "metadata": {
    "scrolled": true
   },
   "outputs": [
    {
     "name": "stdout",
     "output_type": "stream",
     "text": [
      "CPU times: user 4min 40s, sys: 8.9 s, total: 4min 49s\n",
      "Wall time: 48min 2s\n"
     ]
    }
   ],
   "source": [
    "%%time\n",
    "results = check_sites_transferability(model, metrics, buildings_data, weather_data, meter_data)"
   ]
  },
  {
   "cell_type": "code",
   "execution_count": 51,
   "metadata": {},
   "outputs": [
    {
     "data": {
      "text/html": [
       "<div>\n",
       "<style scoped>\n",
       "    .dataframe tbody tr th:only-of-type {\n",
       "        vertical-align: middle;\n",
       "    }\n",
       "\n",
       "    .dataframe tbody tr th {\n",
       "        vertical-align: top;\n",
       "    }\n",
       "\n",
       "    .dataframe thead th {\n",
       "        text-align: right;\n",
       "    }\n",
       "</style>\n",
       "<table border=\"1\" class=\"dataframe\">\n",
       "  <thead>\n",
       "    <tr style=\"text-align: right;\">\n",
       "      <th></th>\n",
       "      <th>rmse</th>\n",
       "      <th>nrmse</th>\n",
       "      <th>rmsle</th>\n",
       "      <th>site_id</th>\n",
       "    </tr>\n",
       "  </thead>\n",
       "  <tbody>\n",
       "    <tr>\n",
       "      <th>0</th>\n",
       "      <td>15.639632</td>\n",
       "      <td>7.819933</td>\n",
       "      <td>0.884609</td>\n",
       "      <td>0</td>\n",
       "    </tr>\n",
       "    <tr>\n",
       "      <th>1</th>\n",
       "      <td>14.774578</td>\n",
       "      <td>7.389617</td>\n",
       "      <td>0.377237</td>\n",
       "      <td>1</td>\n",
       "    </tr>\n",
       "    <tr>\n",
       "      <th>2</th>\n",
       "      <td>20.574284</td>\n",
       "      <td>10.287657</td>\n",
       "      <td>0.496183</td>\n",
       "      <td>2</td>\n",
       "    </tr>\n",
       "    <tr>\n",
       "      <th>3</th>\n",
       "      <td>14.899298</td>\n",
       "      <td>7.450021</td>\n",
       "      <td>0.361269</td>\n",
       "      <td>3</td>\n",
       "    </tr>\n",
       "    <tr>\n",
       "      <th>4</th>\n",
       "      <td>21.838129</td>\n",
       "      <td>10.919119</td>\n",
       "      <td>0.522909</td>\n",
       "      <td>4</td>\n",
       "    </tr>\n",
       "    <tr>\n",
       "      <th>5</th>\n",
       "      <td>12.460356</td>\n",
       "      <td>6.233295</td>\n",
       "      <td>0.503529</td>\n",
       "      <td>5</td>\n",
       "    </tr>\n",
       "    <tr>\n",
       "      <th>6</th>\n",
       "      <td>19.726097</td>\n",
       "      <td>9.863887</td>\n",
       "      <td>0.439222</td>\n",
       "      <td>6</td>\n",
       "    </tr>\n",
       "    <tr>\n",
       "      <th>7</th>\n",
       "      <td>21.723310</td>\n",
       "      <td>10.863828</td>\n",
       "      <td>0.644325</td>\n",
       "      <td>7</td>\n",
       "    </tr>\n",
       "    <tr>\n",
       "      <th>8</th>\n",
       "      <td>8.730745</td>\n",
       "      <td>4.374493</td>\n",
       "      <td>0.765496</td>\n",
       "      <td>8</td>\n",
       "    </tr>\n",
       "    <tr>\n",
       "      <th>9</th>\n",
       "      <td>26.191833</td>\n",
       "      <td>13.103779</td>\n",
       "      <td>0.803963</td>\n",
       "      <td>9</td>\n",
       "    </tr>\n",
       "    <tr>\n",
       "      <th>10</th>\n",
       "      <td>23.496000</td>\n",
       "      <td>11.748118</td>\n",
       "      <td>0.430226</td>\n",
       "      <td>10</td>\n",
       "    </tr>\n",
       "    <tr>\n",
       "      <th>11</th>\n",
       "      <td>36.873710</td>\n",
       "      <td>19.362682</td>\n",
       "      <td>0.839064</td>\n",
       "      <td>11</td>\n",
       "    </tr>\n",
       "    <tr>\n",
       "      <th>12</th>\n",
       "      <td>22.816363</td>\n",
       "      <td>11.408239</td>\n",
       "      <td>0.559728</td>\n",
       "      <td>12</td>\n",
       "    </tr>\n",
       "    <tr>\n",
       "      <th>13</th>\n",
       "      <td>22.202005</td>\n",
       "      <td>11.101058</td>\n",
       "      <td>0.509029</td>\n",
       "      <td>13</td>\n",
       "    </tr>\n",
       "    <tr>\n",
       "      <th>14</th>\n",
       "      <td>22.309633</td>\n",
       "      <td>11.155040</td>\n",
       "      <td>0.604231</td>\n",
       "      <td>14</td>\n",
       "    </tr>\n",
       "    <tr>\n",
       "      <th>15</th>\n",
       "      <td>22.809397</td>\n",
       "      <td>11.406124</td>\n",
       "      <td>0.565539</td>\n",
       "      <td>15</td>\n",
       "    </tr>\n",
       "  </tbody>\n",
       "</table>\n",
       "</div>"
      ],
      "text/plain": [
       "         rmse      nrmse     rmsle  site_id\n",
       "0   15.639632   7.819933  0.884609        0\n",
       "1   14.774578   7.389617  0.377237        1\n",
       "2   20.574284  10.287657  0.496183        2\n",
       "3   14.899298   7.450021  0.361269        3\n",
       "4   21.838129  10.919119  0.522909        4\n",
       "5   12.460356   6.233295  0.503529        5\n",
       "6   19.726097   9.863887  0.439222        6\n",
       "7   21.723310  10.863828  0.644325        7\n",
       "8    8.730745   4.374493  0.765496        8\n",
       "9   26.191833  13.103779  0.803963        9\n",
       "10  23.496000  11.748118  0.430226       10\n",
       "11  36.873710  19.362682  0.839064       11\n",
       "12  22.816363  11.408239  0.559728       12\n",
       "13  22.202005  11.101058  0.509029       13\n",
       "14  22.309633  11.155040  0.604231       14\n",
       "15  22.809397  11.406124  0.565539       15"
      ]
     },
     "execution_count": 51,
     "metadata": {},
     "output_type": "execute_result"
    }
   ],
   "source": [
    "df = pd.DataFrame(results)\n",
    "df"
   ]
  },
  {
   "cell_type": "code",
   "execution_count": 59,
   "metadata": {},
   "outputs": [
    {
     "data": {
      "text/plain": [
       "<matplotlib.axes._subplots.AxesSubplot at 0x7f197499a250>"
      ]
     },
     "execution_count": 59,
     "metadata": {},
     "output_type": "execute_result"
    },
    {
     "data": {
      "image/png": "[encoded data removed]",
      "text/plain": [
       "<Figure size 1080x576 with 1 Axes>"
      ]
     },
     "metadata": {
      "needs_background": "light"
     },
     "output_type": "display_data"
    }
   ],
   "source": [
    "df.plot(x='site_id', y=['rmse', 'nrmse', 'rmsle'], kind='bar', rot=0, figsize=(15, 8))"
   ]
  },
  {
   "cell_type": "markdown",
   "metadata": {},
   "source": [
    "Site 0 is baseline, towards this site comparisons are made.\n",
    "\n",
    "In the graph above, we can see that performance in most sites is worse, but there are some exceptions. Next we examine performance in site 0 with respect to mean performance in other sites.  "
   ]
  },
  {
   "cell_type": "code",
   "execution_count": 76,
   "metadata": {},
   "outputs": [
    {
     "data": {
      "text/html": [
       "<div>\n",
       "<style scoped>\n",
       "    .dataframe tbody tr th:only-of-type {\n",
       "        vertical-align: middle;\n",
       "    }\n",
       "\n",
       "    .dataframe tbody tr th {\n",
       "        vertical-align: top;\n",
       "    }\n",
       "\n",
       "    .dataframe thead th {\n",
       "        text-align: right;\n",
       "    }\n",
       "</style>\n",
       "<table border=\"1\" class=\"dataframe\">\n",
       "  <thead>\n",
       "    <tr style=\"text-align: right;\">\n",
       "      <th></th>\n",
       "      <th>site_id</th>\n",
       "      <th>rmse</th>\n",
       "      <th>nrmse</th>\n",
       "      <th>rmsle</th>\n",
       "    </tr>\n",
       "  </thead>\n",
       "  <tbody>\n",
       "    <tr>\n",
       "      <th>0</th>\n",
       "      <td>0</td>\n",
       "      <td>15.639632</td>\n",
       "      <td>7.819933</td>\n",
       "      <td>0.884609</td>\n",
       "    </tr>\n",
       "    <tr>\n",
       "      <th>1</th>\n",
       "      <td>others</td>\n",
       "      <td>20.761716</td>\n",
       "      <td>10.444464</td>\n",
       "      <td>0.561463</td>\n",
       "    </tr>\n",
       "  </tbody>\n",
       "</table>\n",
       "</div>"
      ],
      "text/plain": [
       "  site_id       rmse      nrmse     rmsle\n",
       "0       0  15.639632   7.819933  0.884609\n",
       "1  others  20.761716  10.444464  0.561463"
      ]
     },
     "execution_count": 76,
     "metadata": {},
     "output_type": "execute_result"
    }
   ],
   "source": [
    "df_mean = pd.DataFrame(\n",
    "    {\n",
    "        'site_id': [0, 'others'],\n",
    "        'rmse': [df[df.site_id == 0].rmse.values[0], df[df.site_id > 0].rmse.mean()],\n",
    "        'nrmse': [df[df.site_id == 0].nrmse.values[0], df[df.site_id > 0].nrmse.mean()],\n",
    "        'rmsle': [df[df.site_id == 0].rmsle.values[0], df[df.site_id > 0].rmsle.mean()]\n",
    "    }\n",
    ")\n",
    "df_mean"
   ]
  },
  {
   "cell_type": "code",
   "execution_count": 77,
   "metadata": {},
   "outputs": [
    {
     "data": {
      "text/plain": [
       "<matplotlib.axes._subplots.AxesSubplot at 0x7f194dba0e90>"
      ]
     },
     "execution_count": 77,
     "metadata": {},
     "output_type": "execute_result"
    },
    {
     "data": {
      "image/png": "[encoded data removed]",
      "text/plain": [
       "<Figure size 1080x576 with 1 Axes>"
      ]
     },
     "metadata": {
      "needs_background": "light"
     },
     "output_type": "display_data"
    }
   ],
   "source": [
    "df_mean.plot(x='site_id', y=['rmse', 'nrmse', 'rmsle'], kind='bar', rot=0, figsize=(15, 8))"
   ]
  },
  {
   "cell_type": "markdown",
   "metadata": {},
   "source": [
    "As we can see from the graph above, performance is a little bit worse but difference is not so significant. We can conclude that generalization of our model is quite good."
   ]
  },
  {
   "cell_type": "code",
   "execution_count": null,
   "metadata": {},
   "outputs": [],
   "source": []
  }
 ],
 "metadata": {
  "kernelspec": {
   "display_name": "Python 3",
   "language": "python",
   "name": "python3"
  },
  "language_info": {
   "codemirror_mode": {
    "name": "ipython",
    "version": 3
   },
   "file_extension": ".py",
   "mimetype": "text/x-python",
   "name": "python",
   "nbconvert_exporter": "python",
   "pygments_lexer": "ipython3",
   "version": "3.7.5"
  }
 },
 "nbformat": 4,
 "nbformat_minor": 4
}
