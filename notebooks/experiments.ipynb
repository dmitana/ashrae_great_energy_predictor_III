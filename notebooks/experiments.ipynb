{
 "cells": [
  {
   "cell_type": "code",
   "execution_count": 1,
   "metadata": {},
   "outputs": [],
   "source": [
    "\"\"\"\n",
    "You need to run this cell for the code in following cells to work.\n",
    "\"\"\"\n",
    "\n",
    "# Enable module reloading\n",
    "%load_ext autoreload\n",
    "%autoreload 2\n",
    "\n",
    "import os\n",
    "os.chdir(\"..\")"
   ]
  },
  {
   "cell_type": "code",
   "execution_count": 2,
   "metadata": {},
   "outputs": [],
   "source": [
    "import math\n",
    "\n",
    "import pandas as pd\n",
    "\n",
    "from sklearn.pipeline import Pipeline\n",
    "from sklearn.model_selection import cross_validate\n",
    "from sklearn.metrics import make_scorer, mean_squared_error, mean_squared_log_error\n",
    "from sklearn.ensemble import ExtraTreesRegressor, GradientBoostingRegressor\n",
    "\n",
    "from src.data.preprocessing.utils import filter_data, merge_data\n",
    "from src.data.feature_unions import merged_fu, merged_fu_without_outliers"
   ]
  },
  {
   "cell_type": "code",
   "execution_count": 3,
   "metadata": {},
   "outputs": [],
   "source": [
    "def cv_mean_std_score(cv_result, scoring):\n",
    "    result = {}\n",
    "    for key, value in cv_result.items():\n",
    "        if 'test_' in key:\n",
    "            result[key] = {'mean': value.mean(), 'std': value.std()}\n",
    "    return result\n",
    "\n",
    "def nrmse(y_true, y_pred):\n",
    "    rmse = mean_squared_error(y_true, y_pred, squared=False)\n",
    "    return rmse / (max(y_true) - min(y_true)) * 100\n",
    "\n",
    "def rmsle(y_true, y_pred):\n",
    "    return math.sqrt(mean_squared_log_error(y_true, y_pred))\n",
    "\n",
    "scoring = {\n",
    "    'neg_root_mean_squared_error': 'neg_root_mean_squared_error',\n",
    "    'neg_normalized_root_mean_squared_error': make_scorer(nrmse, greater_is_better=False),\n",
    "#     'neg_root_mean_squared_log_error': make_scorer(rmsle, greater_is_better=False)\n",
    "}"
   ]
  },
  {
   "cell_type": "code",
   "execution_count": 4,
   "metadata": {},
   "outputs": [
    {
     "name": "stdout",
     "output_type": "stream",
     "text": [
      "CPU times: user 9.29 s, sys: 860 ms, total: 10.1 s\n",
      "Wall time: 10.2 s\n"
     ]
    }
   ],
   "source": [
    "%%time\n",
    "buildings_data = pd.read_csv('data/building_metadata.csv')\n",
    "weather_data = pd.read_csv('data/weather_train.csv')\n",
    "meter_data = pd.read_csv('data/train.csv')"
   ]
  },
  {
   "cell_type": "markdown",
   "metadata": {},
   "source": [
    "# Experiments"
   ]
  },
  {
   "cell_type": "markdown",
   "metadata": {},
   "source": [
    "##  Experiments with `site_id` 0"
   ]
  },
  {
   "cell_type": "code",
   "execution_count": 5,
   "metadata": {},
   "outputs": [
    {
     "name": "stdout",
     "output_type": "stream",
     "text": [
      "CPU times: user 4.75 s, sys: 708 ms, total: 5.46 s\n",
      "Wall time: 5.46 s\n"
     ]
    }
   ],
   "source": [
    "%%time\n",
    "buildings_data, weather_data, meter_data = filter_data(\n",
    "    buildings_data, weather_data, meter_data, site_id=0, meter=0, meter_reading=200\n",
    ")\n",
    "data = merge_data(buildings_data, weather_data, meter_data)"
   ]
  },
  {
   "cell_type": "code",
   "execution_count": 6,
   "metadata": {},
   "outputs": [
    {
     "data": {
      "text/plain": [
       "(605288,\n",
       " array([  0.    ,   0.    ,   0.    , ...,  47.2332, 142.245 , 132.802 ]))"
      ]
     },
     "execution_count": 6,
     "metadata": {},
     "output_type": "execute_result"
    }
   ],
   "source": [
    "y = data[['meter_reading']].values.ravel()\n",
    "len(y), y"
   ]
  },
  {
   "cell_type": "code",
   "execution_count": 17,
   "metadata": {},
   "outputs": [
    {
     "name": "stdout",
     "output_type": "stream",
     "text": [
      "CPU times: user 1.46 s, sys: 544 ms, total: 2 s\n",
      "Wall time: 2min 29s\n"
     ]
    },
    {
     "data": {
      "text/html": [
       "<div>\n",
       "<style scoped>\n",
       "    .dataframe tbody tr th:only-of-type {\n",
       "        vertical-align: middle;\n",
       "    }\n",
       "\n",
       "    .dataframe tbody tr th {\n",
       "        vertical-align: top;\n",
       "    }\n",
       "\n",
       "    .dataframe thead th {\n",
       "        text-align: right;\n",
       "    }\n",
       "</style>\n",
       "<table border=\"1\" class=\"dataframe\">\n",
       "  <thead>\n",
       "    <tr style=\"text-align: right;\">\n",
       "      <th></th>\n",
       "      <th>Education</th>\n",
       "      <th>Entertainment/public assembly</th>\n",
       "      <th>Lodging/residential</th>\n",
       "      <th>Office</th>\n",
       "      <th>Other</th>\n",
       "      <th>square_feet</th>\n",
       "      <th>meter_reading_scaled_1</th>\n",
       "      <th>meter_reading_scaled_2</th>\n",
       "      <th>meter_reading_scaled_3</th>\n",
       "      <th>meter_reading_scaled_4</th>\n",
       "      <th>meter_reading_scaled_5</th>\n",
       "      <th>air_temperature</th>\n",
       "      <th>dew_temperature</th>\n",
       "      <th>wind_direction</th>\n",
       "      <th>wind_speed</th>\n",
       "    </tr>\n",
       "  </thead>\n",
       "  <tbody>\n",
       "    <tr>\n",
       "      <th>0</th>\n",
       "      <td>1.0</td>\n",
       "      <td>0.0</td>\n",
       "      <td>0.0</td>\n",
       "      <td>0.0</td>\n",
       "      <td>0.0</td>\n",
       "      <td>-0.779911</td>\n",
       "      <td>-0.657943</td>\n",
       "      <td>-0.657943</td>\n",
       "      <td>-0.657943</td>\n",
       "      <td>-0.657943</td>\n",
       "      <td>-0.657943</td>\n",
       "      <td>0.358819</td>\n",
       "      <td>0.488281</td>\n",
       "      <td>-1.332590</td>\n",
       "      <td>-1.567109</td>\n",
       "    </tr>\n",
       "    <tr>\n",
       "      <th>1</th>\n",
       "      <td>1.0</td>\n",
       "      <td>0.0</td>\n",
       "      <td>0.0</td>\n",
       "      <td>0.0</td>\n",
       "      <td>0.0</td>\n",
       "      <td>-0.755156</td>\n",
       "      <td>-0.657943</td>\n",
       "      <td>-0.657943</td>\n",
       "      <td>-0.657943</td>\n",
       "      <td>-0.657943</td>\n",
       "      <td>-0.657943</td>\n",
       "      <td>0.358819</td>\n",
       "      <td>0.488281</td>\n",
       "      <td>-1.332590</td>\n",
       "      <td>-1.567109</td>\n",
       "    </tr>\n",
       "    <tr>\n",
       "      <th>2</th>\n",
       "      <td>1.0</td>\n",
       "      <td>0.0</td>\n",
       "      <td>0.0</td>\n",
       "      <td>0.0</td>\n",
       "      <td>0.0</td>\n",
       "      <td>-0.584502</td>\n",
       "      <td>-0.657943</td>\n",
       "      <td>-0.657943</td>\n",
       "      <td>-0.657943</td>\n",
       "      <td>-0.657943</td>\n",
       "      <td>-0.657943</td>\n",
       "      <td>0.358819</td>\n",
       "      <td>0.488281</td>\n",
       "      <td>-1.332590</td>\n",
       "      <td>-1.567109</td>\n",
       "    </tr>\n",
       "    <tr>\n",
       "      <th>3</th>\n",
       "      <td>1.0</td>\n",
       "      <td>0.0</td>\n",
       "      <td>0.0</td>\n",
       "      <td>0.0</td>\n",
       "      <td>0.0</td>\n",
       "      <td>0.281602</td>\n",
       "      <td>-0.657943</td>\n",
       "      <td>-0.657943</td>\n",
       "      <td>-0.657943</td>\n",
       "      <td>-0.657943</td>\n",
       "      <td>-0.657943</td>\n",
       "      <td>0.358819</td>\n",
       "      <td>0.488281</td>\n",
       "      <td>-1.332590</td>\n",
       "      <td>-1.567109</td>\n",
       "    </tr>\n",
       "    <tr>\n",
       "      <th>4</th>\n",
       "      <td>1.0</td>\n",
       "      <td>0.0</td>\n",
       "      <td>0.0</td>\n",
       "      <td>0.0</td>\n",
       "      <td>0.0</td>\n",
       "      <td>-0.730698</td>\n",
       "      <td>-0.657943</td>\n",
       "      <td>-0.657943</td>\n",
       "      <td>-0.657943</td>\n",
       "      <td>-0.657943</td>\n",
       "      <td>-0.657943</td>\n",
       "      <td>0.358819</td>\n",
       "      <td>0.488281</td>\n",
       "      <td>-1.332590</td>\n",
       "      <td>-1.567109</td>\n",
       "    </tr>\n",
       "    <tr>\n",
       "      <th>...</th>\n",
       "      <td>...</td>\n",
       "      <td>...</td>\n",
       "      <td>...</td>\n",
       "      <td>...</td>\n",
       "      <td>...</td>\n",
       "      <td>...</td>\n",
       "      <td>...</td>\n",
       "      <td>...</td>\n",
       "      <td>...</td>\n",
       "      <td>...</td>\n",
       "      <td>...</td>\n",
       "      <td>...</td>\n",
       "      <td>...</td>\n",
       "      <td>...</td>\n",
       "      <td>...</td>\n",
       "    </tr>\n",
       "    <tr>\n",
       "      <th>605283</th>\n",
       "      <td>0.0</td>\n",
       "      <td>0.0</td>\n",
       "      <td>0.0</td>\n",
       "      <td>1.0</td>\n",
       "      <td>0.0</td>\n",
       "      <td>-0.784199</td>\n",
       "      <td>-0.261517</td>\n",
       "      <td>-0.305532</td>\n",
       "      <td>-0.205217</td>\n",
       "      <td>-0.176896</td>\n",
       "      <td>-0.196572</td>\n",
       "      <td>0.822506</td>\n",
       "      <td>1.086596</td>\n",
       "      <td>-0.139979</td>\n",
       "      <td>-0.127903</td>\n",
       "    </tr>\n",
       "    <tr>\n",
       "      <th>605284</th>\n",
       "      <td>0.0</td>\n",
       "      <td>0.0</td>\n",
       "      <td>1.0</td>\n",
       "      <td>0.0</td>\n",
       "      <td>0.0</td>\n",
       "      <td>-0.577315</td>\n",
       "      <td>1.926144</td>\n",
       "      <td>2.053517</td>\n",
       "      <td>1.989830</td>\n",
       "      <td>2.080827</td>\n",
       "      <td>1.971634</td>\n",
       "      <td>0.822506</td>\n",
       "      <td>1.086596</td>\n",
       "      <td>-0.139979</td>\n",
       "      <td>-0.127903</td>\n",
       "    </tr>\n",
       "    <tr>\n",
       "      <th>605285</th>\n",
       "      <td>0.0</td>\n",
       "      <td>0.0</td>\n",
       "      <td>0.0</td>\n",
       "      <td>1.0</td>\n",
       "      <td>0.0</td>\n",
       "      <td>-0.629474</td>\n",
       "      <td>0.292889</td>\n",
       "      <td>0.242847</td>\n",
       "      <td>0.306538</td>\n",
       "      <td>0.374780</td>\n",
       "      <td>0.361132</td>\n",
       "      <td>0.822506</td>\n",
       "      <td>1.086596</td>\n",
       "      <td>-0.139979</td>\n",
       "      <td>-0.127903</td>\n",
       "    </tr>\n",
       "    <tr>\n",
       "      <th>605286</th>\n",
       "      <td>1.0</td>\n",
       "      <td>0.0</td>\n",
       "      <td>0.0</td>\n",
       "      <td>0.0</td>\n",
       "      <td>0.0</td>\n",
       "      <td>-0.603404</td>\n",
       "      <td>1.741883</td>\n",
       "      <td>1.710039</td>\n",
       "      <td>1.662266</td>\n",
       "      <td>1.653168</td>\n",
       "      <td>1.500767</td>\n",
       "      <td>0.822506</td>\n",
       "      <td>1.086596</td>\n",
       "      <td>-0.139979</td>\n",
       "      <td>-0.127903</td>\n",
       "    </tr>\n",
       "    <tr>\n",
       "      <th>605287</th>\n",
       "      <td>0.0</td>\n",
       "      <td>0.0</td>\n",
       "      <td>0.0</td>\n",
       "      <td>0.0</td>\n",
       "      <td>1.0</td>\n",
       "      <td>-0.716074</td>\n",
       "      <td>1.549390</td>\n",
       "      <td>1.537909</td>\n",
       "      <td>1.487570</td>\n",
       "      <td>1.442813</td>\n",
       "      <td>1.384408</td>\n",
       "      <td>0.822506</td>\n",
       "      <td>1.086596</td>\n",
       "      <td>-0.139979</td>\n",
       "      <td>-0.127903</td>\n",
       "    </tr>\n",
       "  </tbody>\n",
       "</table>\n",
       "<p>605288 rows × 15 columns</p>\n",
       "</div>"
      ],
      "text/plain": [
       "        Education  Entertainment/public assembly  Lodging/residential  Office  \\\n",
       "0             1.0                            0.0                  0.0     0.0   \n",
       "1             1.0                            0.0                  0.0     0.0   \n",
       "2             1.0                            0.0                  0.0     0.0   \n",
       "3             1.0                            0.0                  0.0     0.0   \n",
       "4             1.0                            0.0                  0.0     0.0   \n",
       "...           ...                            ...                  ...     ...   \n",
       "605283        0.0                            0.0                  0.0     1.0   \n",
       "605284        0.0                            0.0                  1.0     0.0   \n",
       "605285        0.0                            0.0                  0.0     1.0   \n",
       "605286        1.0                            0.0                  0.0     0.0   \n",
       "605287        0.0                            0.0                  0.0     0.0   \n",
       "\n",
       "        Other  square_feet  meter_reading_scaled_1  meter_reading_scaled_2  \\\n",
       "0         0.0    -0.779911               -0.657943               -0.657943   \n",
       "1         0.0    -0.755156               -0.657943               -0.657943   \n",
       "2         0.0    -0.584502               -0.657943               -0.657943   \n",
       "3         0.0     0.281602               -0.657943               -0.657943   \n",
       "4         0.0    -0.730698               -0.657943               -0.657943   \n",
       "...       ...          ...                     ...                     ...   \n",
       "605283    0.0    -0.784199               -0.261517               -0.305532   \n",
       "605284    0.0    -0.577315                1.926144                2.053517   \n",
       "605285    0.0    -0.629474                0.292889                0.242847   \n",
       "605286    0.0    -0.603404                1.741883                1.710039   \n",
       "605287    1.0    -0.716074                1.549390                1.537909   \n",
       "\n",
       "        meter_reading_scaled_3  meter_reading_scaled_4  \\\n",
       "0                    -0.657943               -0.657943   \n",
       "1                    -0.657943               -0.657943   \n",
       "2                    -0.657943               -0.657943   \n",
       "3                    -0.657943               -0.657943   \n",
       "4                    -0.657943               -0.657943   \n",
       "...                        ...                     ...   \n",
       "605283               -0.205217               -0.176896   \n",
       "605284                1.989830                2.080827   \n",
       "605285                0.306538                0.374780   \n",
       "605286                1.662266                1.653168   \n",
       "605287                1.487570                1.442813   \n",
       "\n",
       "        meter_reading_scaled_5  air_temperature  dew_temperature  \\\n",
       "0                    -0.657943         0.358819         0.488281   \n",
       "1                    -0.657943         0.358819         0.488281   \n",
       "2                    -0.657943         0.358819         0.488281   \n",
       "3                    -0.657943         0.358819         0.488281   \n",
       "4                    -0.657943         0.358819         0.488281   \n",
       "...                        ...              ...              ...   \n",
       "605283               -0.196572         0.822506         1.086596   \n",
       "605284                1.971634         0.822506         1.086596   \n",
       "605285                0.361132         0.822506         1.086596   \n",
       "605286                1.500767         0.822506         1.086596   \n",
       "605287                1.384408         0.822506         1.086596   \n",
       "\n",
       "        wind_direction  wind_speed  \n",
       "0            -1.332590   -1.567109  \n",
       "1            -1.332590   -1.567109  \n",
       "2            -1.332590   -1.567109  \n",
       "3            -1.332590   -1.567109  \n",
       "4            -1.332590   -1.567109  \n",
       "...                ...         ...  \n",
       "605283       -0.139979   -0.127903  \n",
       "605284       -0.139979   -0.127903  \n",
       "605285       -0.139979   -0.127903  \n",
       "605286       -0.139979   -0.127903  \n",
       "605287       -0.139979   -0.127903  \n",
       "\n",
       "[605288 rows x 15 columns]"
      ]
     },
     "execution_count": 17,
     "metadata": {},
     "output_type": "execute_result"
    }
   ],
   "source": [
    "%%time\n",
    "x = merged_fu.union_features(data)\n",
    "x"
   ]
  },
  {
   "cell_type": "markdown",
   "metadata": {},
   "source": [
    "### Extremely  Randomized  Trees"
   ]
  },
  {
   "cell_type": "markdown",
   "metadata": {},
   "source": [
    "####  With outliers"
   ]
  },
  {
   "cell_type": "code",
   "execution_count": 7,
   "metadata": {},
   "outputs": [],
   "source": [
    "pipeline = Pipeline([\n",
    "    ('features', merged_fu),\n",
    "    ('classifier', ExtraTreesRegressor(\n",
    "        n_jobs=-1\n",
    "    ))\n",
    "])"
   ]
  },
  {
   "cell_type": "code",
   "execution_count": 8,
   "metadata": {
    "scrolled": true
   },
   "outputs": [
    {
     "name": "stdout",
     "output_type": "stream",
     "text": [
      "CPU times: user 1min 8s, sys: 16.1 s, total: 1min 24s\n",
      "Wall time: 16min 57s\n"
     ]
    }
   ],
   "source": [
    "%%time\n",
    "result = cross_validate(pipeline, data, y, cv=5, scoring=scoring)"
   ]
  },
  {
   "cell_type": "code",
   "execution_count": 9,
   "metadata": {},
   "outputs": [
    {
     "data": {
      "text/plain": [
       "{'fit_time': array([219.8563323 , 188.39170861, 178.42246723, 200.68005228,\n",
       "        190.4943397 ]),\n",
       " 'score_time': array([ 4.13445902,  6.01872849,  8.24122906, 13.21035266,  7.60145688]),\n",
       " 'test_neg_root_mean_squared_error': array([-30.41032752, -34.67210464, -59.32714906, -24.16964255,\n",
       "        -25.32649584]),\n",
       " 'test_neg_normalized_root_mean_squared_error': array([-15.6437359 , -17.76125681, -29.66505778, -12.08542555,\n",
       "        -12.66343787]),\n",
       " 'test_neg_root_mean_squared_log_error': array([-2.39625613, -2.55994908, -3.11067965, -0.66217591, -0.56967891])}"
      ]
     },
     "execution_count": 9,
     "metadata": {},
     "output_type": "execute_result"
    }
   ],
   "source": [
    "result"
   ]
  },
  {
   "cell_type": "code",
   "execution_count": 10,
   "metadata": {},
   "outputs": [
    {
     "data": {
      "text/plain": [
       "{'test_neg_root_mean_squared_error': {'mean': -34.781143923057456,\n",
       "  'std': 12.834458504648522},\n",
       " 'test_neg_normalized_root_mean_squared_error': {'mean': -17.56378278145746,\n",
       "  'std': 6.390496239371232},\n",
       " 'test_neg_root_mean_squared_log_error': {'mean': -1.8597479365086678,\n",
       "  'std': 1.0432075249847157}}"
      ]
     },
     "execution_count": 10,
     "metadata": {},
     "output_type": "execute_result"
    }
   ],
   "source": [
    "cv_mean_std_score(result, scoring)"
   ]
  },
  {
   "cell_type": "markdown",
   "metadata": {},
   "source": [
    "####  Without outliers"
   ]
  },
  {
   "cell_type": "code",
   "execution_count": 7,
   "metadata": {},
   "outputs": [],
   "source": [
    "pipeline = Pipeline([\n",
    "    ('features', merged_fu_without_outliers),\n",
    "    ('classifier', ExtraTreesRegressor(\n",
    "        n_jobs=-1\n",
    "    ))\n",
    "])"
   ]
  },
  {
   "cell_type": "code",
   "execution_count": 8,
   "metadata": {
    "scrolled": true
   },
   "outputs": [
    {
     "name": "stdout",
     "output_type": "stream",
     "text": [
      "CPU times: user 1min 6s, sys: 16.1 s, total: 1min 22s\n",
      "Wall time: 16min 4s\n"
     ]
    }
   ],
   "source": [
    "%%time\n",
    "result = cross_validate(pipeline, data, y, cv=5, scoring=scoring)"
   ]
  },
  {
   "cell_type": "code",
   "execution_count": 9,
   "metadata": {},
   "outputs": [
    {
     "data": {
      "text/plain": [
       "{'fit_time': array([184.97140241, 183.02505994, 171.70970035, 180.8711586 ,\n",
       "        204.79703856]),\n",
       " 'score_time': array([ 3.95679188,  7.4586904 ,  8.17715549, 10.08739924,  9.48864102]),\n",
       " 'test_neg_root_mean_squared_error': array([-29.28447081, -35.14438758, -60.24574366, -24.1713793 ,\n",
       "        -25.33199547]),\n",
       " 'test_neg_normalized_root_mean_squared_error': array([-15.06457064, -18.00319016, -30.12437805, -12.08629397,\n",
       "        -12.66618773])}"
      ]
     },
     "execution_count": 9,
     "metadata": {},
     "output_type": "execute_result"
    }
   ],
   "source": [
    "result"
   ]
  },
  {
   "cell_type": "code",
   "execution_count": 10,
   "metadata": {},
   "outputs": [
    {
     "data": {
      "text/plain": [
       "{'test_neg_root_mean_squared_error': {'mean': -34.83559536458503,\n",
       "  'std': 13.271246272136471},\n",
       " 'test_neg_normalized_root_mean_squared_error': {'mean': -17.588924109668923,\n",
       "  'std': 6.605964793249112}}"
      ]
     },
     "execution_count": 10,
     "metadata": {},
     "output_type": "execute_result"
    }
   ],
   "source": [
    "cv_mean_std_score(result, scoring)"
   ]
  },
  {
   "cell_type": "markdown",
   "metadata": {},
   "source": [
    "### Gradient Boosting"
   ]
  },
  {
   "cell_type": "markdown",
   "metadata": {},
   "source": [
    "####  With outliers"
   ]
  },
  {
   "cell_type": "code",
   "execution_count": 8,
   "metadata": {},
   "outputs": [],
   "source": [
    "pipeline = Pipeline([\n",
    "    ('features', merged_fu),\n",
    "    ('classifier', GradientBoostingRegressor())\n",
    "])"
   ]
  },
  {
   "cell_type": "code",
   "execution_count": 12,
   "metadata": {
    "scrolled": true
   },
   "outputs": [
    {
     "name": "stdout",
     "output_type": "stream",
     "text": [
      "CPU times: user 11min 47s, sys: 779 ms, total: 11min 48s\n",
      "Wall time: 18min 15s\n"
     ]
    }
   ],
   "source": [
    "%%time\n",
    "result = cross_validate(pipeline, data, y, cv=5, scoring=scoring)"
   ]
  },
  {
   "cell_type": "code",
   "execution_count": 13,
   "metadata": {},
   "outputs": [
    {
     "data": {
      "text/plain": [
       "{'fit_time': array([229.45887518, 235.7858367 , 212.88394046, 189.19264197,\n",
       "        194.28082752]),\n",
       " 'score_time': array([3.67976141, 6.59404635, 9.59670663, 9.030231  , 4.92878103]),\n",
       " 'test_neg_root_mean_squared_error': array([ -8.7156448 ,  -7.73164527, -16.99786573, -29.69650662,\n",
       "        -32.12221959]),\n",
       " 'test_neg_normalized_root_mean_squared_error': array([ -4.48351782,  -3.96064037,  -8.49935783, -14.84899576,\n",
       "        -16.06135072])}"
      ]
     },
     "execution_count": 13,
     "metadata": {},
     "output_type": "execute_result"
    }
   ],
   "source": [
    "result"
   ]
  },
  {
   "cell_type": "code",
   "execution_count": 14,
   "metadata": {},
   "outputs": [
    {
     "data": {
      "text/plain": [
       "{'test_neg_root_mean_squared_error': {'mean': -19.052776404173873,\n",
       "  'std': 10.230799539832114},\n",
       " 'test_neg_normalized_root_mean_squared_error': {'mean': -9.570772500169276,\n",
       "  'std': 5.0692981468776255}}"
      ]
     },
     "execution_count": 14,
     "metadata": {},
     "output_type": "execute_result"
    }
   ],
   "source": [
    "cv_mean_std_score(result, scoring)"
   ]
  },
  {
   "cell_type": "markdown",
   "metadata": {},
   "source": [
    "####  Without outliers"
   ]
  },
  {
   "cell_type": "code",
   "execution_count": 15,
   "metadata": {},
   "outputs": [],
   "source": [
    "pipeline = Pipeline([\n",
    "    ('features', merged_fu_without_outliers),\n",
    "    ('classifier', GradientBoostingRegressor())\n",
    "])"
   ]
  },
  {
   "cell_type": "code",
   "execution_count": 16,
   "metadata": {
    "scrolled": true
   },
   "outputs": [
    {
     "name": "stdout",
     "output_type": "stream",
     "text": [
      "CPU times: user 11min 15s, sys: 888 ms, total: 11min 15s\n",
      "Wall time: 18min 8s\n"
     ]
    }
   ],
   "source": [
    "%%time\n",
    "result = cross_validate(pipeline, data, y, cv=5, scoring=scoring)"
   ]
  },
  {
   "cell_type": "code",
   "execution_count": 17,
   "metadata": {},
   "outputs": [
    {
     "data": {
      "text/plain": [
       "{'fit_time': array([228.72421312, 230.65235376, 220.70947409, 180.56716204,\n",
       "        193.54192305]),\n",
       " 'score_time': array([3.96224117, 7.47788644, 6.86959887, 9.73576498, 6.43519139]),\n",
       " 'test_neg_root_mean_squared_error': array([ -7.830535  ,  -7.6937339 , -17.08321472, -29.73671728,\n",
       "        -32.15582047]),\n",
       " 'test_neg_normalized_root_mean_squared_error': array([ -4.02819803,  -3.94121975,  -8.54203446, -14.86910209,\n",
       "        -16.07815141])}"
      ]
     },
     "execution_count": 17,
     "metadata": {},
     "output_type": "execute_result"
    }
   ],
   "source": [
    "result"
   ]
  },
  {
   "cell_type": "code",
   "execution_count": 18,
   "metadata": {},
   "outputs": [
    {
     "data": {
      "text/plain": [
       "{'test_neg_root_mean_squared_error': {'mean': -18.900004272651746,\n",
       "  'std': 10.436142791331061},\n",
       " 'test_neg_normalized_root_mean_squared_error': {'mean': -9.491741148661252,\n",
       "  'std': 5.174115283168382}}"
      ]
     },
     "execution_count": 18,
     "metadata": {},
     "output_type": "execute_result"
    }
   ],
   "source": [
    "cv_mean_std_score(result, scoring)"
   ]
  },
  {
   "cell_type": "code",
   "execution_count": null,
   "metadata": {},
   "outputs": [],
   "source": []
  }
 ],
 "metadata": {
  "kernelspec": {
   "display_name": "Python 3",
   "language": "python",
   "name": "python3"
  },
  "language_info": {
   "codemirror_mode": {
    "name": "ipython",
    "version": 3
   },
   "file_extension": ".py",
   "mimetype": "text/x-python",
   "name": "python",
   "nbconvert_exporter": "python",
   "pygments_lexer": "ipython3",
   "version": "3.7.5"
  }
 },
 "nbformat": 4,
 "nbformat_minor": 4
}
